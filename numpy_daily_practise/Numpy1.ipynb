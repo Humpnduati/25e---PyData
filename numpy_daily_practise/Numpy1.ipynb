{
 "cells": [
  {
   "cell_type": "markdown",
   "metadata": {},
   "source": [
    "# Numpy Exercise 1\n",
    "\n",
    "### All of the questions in this exercise are attributed to rougier/numpy-100"
   ]
  },
  {
   "cell_type": "code",
   "execution_count": null,
   "metadata": {},
   "outputs": [],
   "source": []
  },
  {
   "cell_type": "markdown",
   "metadata": {},
   "source": [
    "#### 1. Import the numpy package under the name `np` (★☆☆)"
   ]
  },
  {
   "cell_type": "code",
   "execution_count": 1,
   "metadata": {},
   "outputs": [],
   "source": [
    "import numpy as np"
   ]
  },
  {
   "cell_type": "markdown",
   "metadata": {},
   "source": [
    "#### 2. Print the numpy version and the configuration (★☆☆)"
   ]
  },
  {
   "cell_type": "code",
   "execution_count": null,
   "metadata": {},
   "outputs": [],
   "source": [
    "print(np.__version__)\n",
    "print(np.show_config())"
   ]
  },
  {
   "cell_type": "markdown",
   "metadata": {},
   "source": [
    "#### 3. Create a null vector of size 10 (★☆☆)"
   ]
  },
  {
   "cell_type": "code",
   "execution_count": 3,
   "metadata": {},
   "outputs": [
    {
     "name": "stdout",
     "output_type": "stream",
     "text": [
      "[0. 0. 0. 0. 0. 0. 0. 0. 0. 0.]\n"
     ]
    }
   ],
   "source": [
    "null_vec = np.zeros(10)\n",
    "print(null_vec)"
   ]
  },
  {
   "cell_type": "markdown",
   "metadata": {},
   "source": [
    "#### 4. How to find the memory size of any array (★☆☆)"
   ]
  },
  {
   "cell_type": "code",
   "execution_count": null,
   "metadata": {},
   "outputs": [
    {
     "name": "stdout",
     "output_type": "stream",
     "text": [
      "Byte size of numpy array: 80 bytes\n"
     ]
    }
   ],
   "source": [
    "numpy_array = np.zeros(10)\n",
    "byte_size = numpy_array.nbytes\n",
    "print(f'Memory Size of array: {byte_size} bytes')"
   ]
  },
  {
   "cell_type": "markdown",
   "metadata": {},
   "source": [
    "#### 5. How to get the documentation of the numpy add function from the command line? (★☆☆)"
   ]
  },
  {
   "cell_type": "code",
   "execution_count": null,
   "metadata": {},
   "outputs": [
    {
     "data": {
      "text/plain": [
       "<ufunc 'add'>"
      ]
     },
     "execution_count": 8,
     "metadata": {},
     "output_type": "execute_result"
    }
   ],
   "source": [
    "# python -c 'import numpy as np; help(np.add)'"
   ]
  },
  {
   "cell_type": "markdown",
   "metadata": {},
   "source": [
    "#### 6. Create a null vector of size 10 but the fifth value which is 1 (★☆☆)"
   ]
  },
  {
   "cell_type": "code",
   "execution_count": 9,
   "metadata": {},
   "outputs": [
    {
     "name": "stdout",
     "output_type": "stream",
     "text": [
      "[0. 0. 0. 0. 1. 0. 0. 0. 0. 0.]\n",
      "[0 0 0 0 1 0 0 0 0 0]\n"
     ]
    }
   ],
   "source": [
    "null_vector = np.zeros(10)\n",
    "null_vector[4] = 1\n",
    "\n",
    "null_vec = np.where(np.arange(10) == 4, 1,0)\n",
    "\n",
    "print(null_vector)\n",
    "print(null_vec)"
   ]
  },
  {
   "cell_type": "markdown",
   "metadata": {},
   "source": [
    "#### 7. Create a vector with values ranging from 10 to 49 (★☆☆)"
   ]
  },
  {
   "cell_type": "code",
   "execution_count": 10,
   "metadata": {},
   "outputs": [
    {
     "name": "stdout",
     "output_type": "stream",
     "text": [
      "[10 11 12 13 14 15 16 17 18 19 20 21 22 23 24 25 26 27 28 29 30 31 32 33\n",
      " 34 35 36 37 38 39 40 41 42 43 44 45 46 47 48 49]\n"
     ]
    }
   ],
   "source": [
    "vector = np.arange(10, 50)\n",
    "print(vector)"
   ]
  },
  {
   "cell_type": "markdown",
   "metadata": {},
   "source": [
    "#### 8. Reverse a vector (first element becomes last) (★☆☆)"
   ]
  },
  {
   "cell_type": "code",
   "execution_count": 11,
   "metadata": {},
   "outputs": [
    {
     "name": "stdout",
     "output_type": "stream",
     "text": [
      "[6 5 4 3 2 1]\n"
     ]
    }
   ],
   "source": [
    "vec = np.arange(1, 7)\n",
    "reversed_vec = vec [:: -1]\n",
    "print(reversed_vec)"
   ]
  },
  {
   "cell_type": "markdown",
   "metadata": {},
   "source": [
    "#### 9. Create a 3x3 matrix with values ranging from 0 to 8 (★☆☆)"
   ]
  },
  {
   "cell_type": "code",
   "execution_count": 12,
   "metadata": {},
   "outputs": [
    {
     "name": "stdout",
     "output_type": "stream",
     "text": [
      "[[0 1 2]\n",
      " [3 4 5]\n",
      " [6 7 8]]\n"
     ]
    }
   ],
   "source": [
    "# Create a 1D array with values 0-8\n",
    "arr = np.arange(9)\n",
    "# reshape into 3 by 3 matrix\n",
    "matrix = arr.reshape(3, 3)\n",
    "\n",
    "print(matrix)"
   ]
  },
  {
   "cell_type": "markdown",
   "metadata": {},
   "source": [
    "#### 10. Find indices of non-zero elements from [1,2,0,0,4,0] (★☆☆)"
   ]
  },
  {
   "cell_type": "code",
   "execution_count": null,
   "metadata": {},
   "outputs": [
    {
     "name": "stdout",
     "output_type": "stream",
     "text": [
      "[0 1 4]\n"
     ]
    }
   ],
   "source": [
    "arr = np.array([1, 2, 0, 0, 4, 0])\n",
    "indices = np.nonzero(arr)[0]\n",
    "print(indices)\n"
   ]
  },
  {
   "cell_type": "markdown",
   "metadata": {},
   "source": [
    "#### 11. Create a 3x3 identity matrix (★☆☆)"
   ]
  },
  {
   "cell_type": "code",
   "execution_count": 15,
   "metadata": {},
   "outputs": [
    {
     "name": "stdout",
     "output_type": "stream",
     "text": [
      "[[1. 0. 0.]\n",
      " [0. 1. 0.]\n",
      " [0. 0. 1.]]\n"
     ]
    }
   ],
   "source": [
    "identity_matrix = np.identity(3)\n",
    "print(identity_matrix)"
   ]
  },
  {
   "cell_type": "markdown",
   "metadata": {},
   "source": [
    "#### 12. Create a 3x3x3 array with random values (★☆☆)"
   ]
  },
  {
   "cell_type": "code",
   "execution_count": 6,
   "metadata": {},
   "outputs": [
    {
     "name": "stdout",
     "output_type": "stream",
     "text": [
      "[[[3.07729882e-01 8.14959240e-02 1.00764138e-01]\n",
      "  [3.17128212e-01 5.15588991e-01 8.11273632e-01]\n",
      "  [9.11416657e-01 6.99107842e-01 6.97514952e-01]]\n",
      "\n",
      " [[2.68969151e-04 7.17864904e-01 1.35865369e-01]\n",
      "  [7.29827389e-01 3.12308103e-01 2.60065855e-01]\n",
      "  [3.39840246e-01 9.71716622e-01 1.37286623e-01]]\n",
      "\n",
      " [[6.60370025e-01 3.63173607e-01 1.66744837e-01]\n",
      "  [7.40109508e-01 4.52270119e-01 6.89070853e-01]\n",
      "  [6.11448722e-01 2.44998664e-01 2.46427330e-01]]]\n"
     ]
    }
   ],
   "source": [
    "ran_arr = np.random.random((3, 3, 3))\n",
    "print(ran_arr)"
   ]
  },
  {
   "cell_type": "markdown",
   "metadata": {},
   "source": [
    "#### 13. Create a 10x10 array with random values and find the minimum and maximum values (★☆☆)"
   ]
  },
  {
   "cell_type": "code",
   "execution_count": 7,
   "metadata": {},
   "outputs": [
    {
     "name": "stdout",
     "output_type": "stream",
     "text": [
      "[[0.41364439 0.29613318 0.80123959 0.7470549  0.75559623 0.9523778\n",
      "  0.04734954 0.6569316  0.93996036 0.8373375 ]\n",
      " [0.56351236 0.81271219 0.6607559  0.06954959 0.96381578 0.42464227\n",
      "  0.71621654 0.6470467  0.40040499 0.15541198]\n",
      " [0.59235048 0.41373793 0.27644038 0.41643842 0.67918105 0.50264562\n",
      "  0.69059868 0.99236546 0.08357064 0.45538239]\n",
      " [0.26831936 0.27889548 0.37015962 0.48626529 0.19364774 0.14295238\n",
      "  0.97798441 0.81491137 0.7111464  0.50993655]\n",
      " [0.63456689 0.16655322 0.99173    0.87266811 0.25007995 0.6809152\n",
      "  0.79007491 0.47577455 0.07512071 0.87392515]\n",
      " [0.68703184 0.78500112 0.38963808 0.19177971 0.35217043 0.78589666\n",
      "  0.52291962 0.27271526 0.59709895 0.50883465]\n",
      " [0.76338806 0.61870764 0.01549293 0.77155349 0.44296888 0.20855208\n",
      "  0.03247496 0.34469339 0.96302852 0.93255457]\n",
      " [0.74916096 0.01025118 0.6893237  0.51922973 0.26972347 0.88884221\n",
      "  0.34487225 0.7234906  0.60959658 0.57029282]\n",
      " [0.64815602 0.459113   0.97903078 0.18871812 0.3383379  0.0506312\n",
      "  0.87153595 0.29252748 0.49553958 0.41833993]\n",
      " [0.5998166  0.23168032 0.40052329 0.52002195 0.1679314  0.08606389\n",
      "  0.34584895 0.32609556 0.06258798 0.53111782]]\n",
      "Minimum Value: 0.01025117650772367, Maximum Value: 0.9923654637467152\n"
     ]
    }
   ],
   "source": [
    "ran_arr = np. random.random((10, 10))\n",
    "print(ran_arr)\n",
    "\n",
    "min_val, max_val = np.min(ran_arr), np.max(ran_arr)\n",
    "print(f'Minimum Value: {min_val}, Maximum Value: {max_val}')"
   ]
  },
  {
   "cell_type": "markdown",
   "metadata": {},
   "source": [
    "#### 14. Create a random vector of size 30 and find the mean value (★☆☆)"
   ]
  },
  {
   "cell_type": "code",
   "execution_count": 8,
   "metadata": {},
   "outputs": [
    {
     "name": "stdout",
     "output_type": "stream",
     "text": [
      "[0.81080875 0.26037474 0.58034222 0.26720306 0.76918071 0.81500289\n",
      " 0.17667028 0.59588318 0.90970648 0.80051609 0.13874483 0.47212494\n",
      " 0.89797963 0.64580573 0.53060242 0.19317213 0.54459351 0.09064039\n",
      " 0.91211267 0.85245867 0.37201828 0.81962987 0.26862734 0.65627723\n",
      " 0.50759107 0.54054266 0.88366503 0.30902538 0.19733051 0.39166824]\n",
      "Mean Value: 0.5403432980395273\n"
     ]
    }
   ],
   "source": [
    "ran_vec = np.random.random(30)\n",
    "print(ran_vec)\n",
    "mean_val = np.mean(ran_vec)\n",
    "print(f'Mean Value: {mean_val}')"
   ]
  },
  {
   "cell_type": "markdown",
   "metadata": {},
   "source": [
    "#### 15. Create a 2d array with 1 on the border and 0 inside (★☆☆)"
   ]
  },
  {
   "cell_type": "code",
   "execution_count": 60,
   "metadata": {},
   "outputs": [
    {
     "name": "stdout",
     "output_type": "stream",
     "text": [
      "[[1. 0.]\n",
      " [1. 0.]]\n"
     ]
    }
   ],
   "source": [
    "\n",
    "rows, cols = 2, 2\n",
    "\n",
    "arr = np.zeros((rows, cols))\n",
    "arr[0, :] = 0    \n",
    "arr[1, :] = 1   \n",
    "arr[:, 0] = 1 \n",
    "arr[:, 1] = 0  \n",
    "\n",
    "print(arr)"
   ]
  }
 ],
 "metadata": {
  "kernelspec": {
   "display_name": ".venv",
   "language": "python",
   "name": "python3"
  },
  "language_info": {
   "codemirror_mode": {
    "name": "ipython",
    "version": 3
   },
   "file_extension": ".py",
   "mimetype": "text/x-python",
   "name": "python",
   "nbconvert_exporter": "python",
   "pygments_lexer": "ipython3",
   "version": "3.12.3"
  }
 },
 "nbformat": 4,
 "nbformat_minor": 4
}
