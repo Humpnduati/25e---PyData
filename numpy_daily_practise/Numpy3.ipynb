{
 "cells": [
  {
   "cell_type": "markdown",
   "metadata": {},
   "source": [
    "# Numpy Exercise 3\n",
    "\n",
    "### All of the questions in this exercise are attributed to rougier/numpy-100"
   ]
  },
  {
   "cell_type": "code",
   "execution_count": null,
   "metadata": {},
   "outputs": [],
   "source": [
    "import numpy as np"
   ]
  },
  {
   "cell_type": "markdown",
   "metadata": {},
   "source": [
    "#### 31. How to ignore all numpy warnings (not recommended)? (★☆☆)"
   ]
  },
  {
   "cell_type": "code",
   "execution_count": 24,
   "metadata": {},
   "outputs": [
    {
     "data": {
      "text/plain": [
       "{'divide': 'warn', 'over': 'warn', 'under': 'ignore', 'invalid': 'warn'}"
      ]
     },
     "execution_count": 24,
     "metadata": {},
     "output_type": "execute_result"
    }
   ],
   "source": [
    "np.seterr(all=\"ignore\")"
   ]
  },
  {
   "cell_type": "markdown",
   "metadata": {},
   "source": [
    "#### 32. Is the following expressions true? (★☆☆)\n",
    "```python\n",
    "np.sqrt(-1) == np.emath.sqrt(-1)\n",
    "```"
   ]
  },
  {
   "cell_type": "code",
   "execution_count": null,
   "metadata": {},
   "outputs": [],
   "source": [
    "print(np.sqrt(-1) == np.emath.sqrt(-1)) "
   ]
  },
  {
   "cell_type": "markdown",
   "metadata": {},
   "source": [
    "#### 33. How to get the dates of yesterday, today and tomorrow? (★☆☆)"
   ]
  },
  {
   "cell_type": "code",
   "execution_count": null,
   "metadata": {},
   "outputs": [],
   "source": [
    "today = np.datetime64('today', 'D')\n",
    "yesterday = today - np.timedelta64(1, 'D')\n",
    "tomorrow = today + np.timedelta64(1, 'D')\n",
    "print(yesterday, today, tomorrow)"
   ]
  },
  {
   "cell_type": "markdown",
   "metadata": {},
   "source": [
    "#### 34. How to get all the dates corresponding to the month of July 2016? (★★☆)"
   ]
  },
  {
   "cell_type": "code",
   "execution_count": null,
   "metadata": {},
   "outputs": [],
   "source": [
    "dates = np.arange('2016-07', '2016-08', dtype='datetime64[D]')\n",
    "print(dates)"
   ]
  },
  {
   "cell_type": "markdown",
   "metadata": {},
   "source": [
    "#### 35. How to compute ((A+B)*(-A/2)) in place (without copy)? (★★☆)"
   ]
  },
  {
   "cell_type": "code",
   "execution_count": 20,
   "metadata": {},
   "outputs": [
    {
     "name": "stdout",
     "output_type": "stream",
     "text": [
      "A: [-1. -1. -1. -1. -1.]\n",
      "B: [2. 2. 2. 2. 2.]\n",
      "Result of A + B: [1. 1. 1. 1. 1.]\n",
      "Result of -A/2: [0.5 0.5 0.5 0.5 0.5]\n",
      "Result of (A+B)*(-A/2): [-2. -2. -2. -2. -2.]\n"
     ]
    }
   ],
   "source": [
    "A = np.ones(5)\n",
    "B = np.ones(5)\n",
    "np.add(A, B, out=B)  # B = A+B\n",
    "np.divide(A, -2, out=A)  # A = -A/2\n",
    "np.multiply(B, A, out=A)  # A = (A+B)*(-A/2)\n",
    "\n",
    "print(\"A:\", A)\n",
    "print(\"B:\", B)      \n",
    "print(\"Result of A + B:\", np.add(A, B))\n",
    "print(\"Result of -A/2:\", np.divide(A, -2))\n",
    "print(\"Result of (A+B)*(-A/2):\", np.multiply(B, A))\n"
   ]
  },
  {
   "cell_type": "markdown",
   "metadata": {},
   "source": [
    "#### 36. Extract the integer part of a random array of positive numbers using 4 different methods (★★☆)"
   ]
  },
  {
   "cell_type": "code",
   "execution_count": null,
   "metadata": {},
   "outputs": [],
   "source": [
    "Z = np.random.uniform(0, 10, 10)\n",
    "\n",
    "# Method 1: Truncation\n",
    "int_part1 = np.trunc(Z)\n",
    "\n",
    "# Method 2: Floor\n",
    "int_part2 = np.floor(Z)\n",
    "\n",
    "# Method 3: Cast to integer\n",
    "int_part3 = Z.astype(int)\n",
    "\n",
    "# Method 4: Ceiling adjusted for positive numbers\n",
    "int_part4 = np.ceil(Z) - (Z % 1 != 0)\n",
    "print(\"Original Array:\", Z)\n",
    "print(\"Truncated Integer Part:\", int_part1)\n",
    "print(\"Floored Integer Part:\", int_part2)\n",
    "print(\"Casted Integer Part:\", int_part3)\n",
    "print(\"Ceiling Adjusted Integer Part:\", int_part4)"
   ]
  },
  {
   "cell_type": "markdown",
   "metadata": {},
   "source": [
    "#### 37. Create a 5x5 matrix with row values ranging from 0 to 4 (★★☆)"
   ]
  },
  {
   "cell_type": "code",
   "execution_count": 17,
   "metadata": {},
   "outputs": [
    {
     "name": "stdout",
     "output_type": "stream",
     "text": [
      "Tiled Matrix:\n",
      " [[0 1 2 3 4]\n",
      " [0 1 2 3 4]\n",
      " [0 1 2 3 4]\n",
      " [0 1 2 3 4]\n",
      " [0 1 2 3 4]]\n"
     ]
    }
   ],
   "source": [
    "matrix = np.tile(np.arange(5), (5, 1))\n",
    "print(\"Tiled Matrix:\\n\", matrix)"
   ]
  },
  {
   "cell_type": "markdown",
   "metadata": {},
   "source": [
    "#### 38. Consider a generator function that generates 10 integers and use it to build an array (★☆☆)"
   ]
  },
  {
   "cell_type": "code",
   "execution_count": 16,
   "metadata": {},
   "outputs": [
    {
     "name": "stdout",
     "output_type": "stream",
     "text": [
      "Array from generator: [0 1 2 3 4 5 6 7 8 9]\n"
     ]
    }
   ],
   "source": [
    "def generate_ints():\n",
    "    for i in range(10):\n",
    "        yield i\n",
    "\n",
    "arr = np.fromiter(generate_ints(), dtype=int)\n",
    "print(\"Array from generator:\", arr)"
   ]
  },
  {
   "cell_type": "markdown",
   "metadata": {},
   "source": [
    "#### 39. Create a vector of size 10 with values ranging from 0 to 1, both excluded (★★☆)"
   ]
  },
  {
   "cell_type": "code",
   "execution_count": 14,
   "metadata": {},
   "outputs": [
    {
     "name": "stdout",
     "output_type": "stream",
     "text": [
      "Vector: [0.09090909 0.18181818 0.27272727 0.36363636 0.45454545 0.54545455\n",
      " 0.63636364 0.72727273 0.81818182 0.90909091]\n"
     ]
    }
   ],
   "source": [
    "vector = np.linspace(0, 1, 11, endpoint=False)[1:]\n",
    "print(\"Vector:\", vector)"
   ]
  },
  {
   "cell_type": "markdown",
   "metadata": {},
   "source": [
    "#### 40. Create a random vector of size 10 and sort it (★★☆)"
   ]
  },
  {
   "cell_type": "code",
   "execution_count": null,
   "metadata": {},
   "outputs": [],
   "source": [
    "vec = np.random.rand(10)\n",
    "vec.sort()\n",
    "print(\"Sorted Vector:\", vec)"
   ]
  },
  {
   "cell_type": "markdown",
   "metadata": {},
   "source": [
    "#### 41. How to sum a small array faster than np.sum? (★★☆)"
   ]
  },
  {
   "cell_type": "code",
   "execution_count": 12,
   "metadata": {},
   "outputs": [
    {
     "name": "stdout",
     "output_type": "stream",
     "text": [
      "Result of np.add.reduce on small_arr: 6\n"
     ]
    }
   ],
   "source": [
    "small_arr = np.array([1, 2, 3])\n",
    "result = np.add.reduce(small_arr)\n",
    "print(\"Result of np.add.reduce on small_arr:\", result)"
   ]
  },
  {
   "cell_type": "markdown",
   "metadata": {},
   "source": [
    "#### 42. Consider two random array A and B, check if they are equal (★★☆)"
   ]
  },
  {
   "cell_type": "code",
   "execution_count": 10,
   "metadata": {},
   "outputs": [
    {
     "name": "stdout",
     "output_type": "stream",
     "text": [
      "A: [0.7840861  0.84531558 0.4808613  0.27334708 0.15125444]\n",
      "B: [0.69081728 0.83496291 0.08212142 0.84866116 0.86710849]\n",
      "Are A and B equal? False\n",
      "Are A and B close? False\n"
     ]
    }
   ],
   "source": [
    "A = np.random.rand(5)\n",
    "B = np.random.rand(5)\n",
    "equal = np.array_equal(A, B) \n",
    "close = np.allclose(A, B)  \n",
    "print(\"A:\", A)\n",
    "print(\"B:\", B)\n",
    "print(\"Are A and B equal?\", equal)\n",
    "print(\"Are A and B close?\", close)"
   ]
  },
  {
   "cell_type": "markdown",
   "metadata": {},
   "source": [
    "#### 43. Make an array immutable (read-only) (★★☆)"
   ]
  },
  {
   "cell_type": "code",
   "execution_count": 8,
   "metadata": {},
   "outputs": [
    {
     "name": "stdout",
     "output_type": "stream",
     "text": [
      "[0. 0. 0. 0. 0.]\n",
      "Is array writable? False\n"
     ]
    }
   ],
   "source": [
    "arr = np.zeros(5)\n",
    "arr.flags.writeable = False\n",
    "print(arr)\n",
    "print(\"Is array writable?\", arr.flags.writeable)"
   ]
  },
  {
   "cell_type": "markdown",
   "metadata": {},
   "source": [
    "#### 44. Consider a random 10x2 matrix representing cartesian coordinates, convert them to polar coordinates (★★☆)"
   ]
  },
  {
   "cell_type": "code",
   "execution_count": null,
   "metadata": {},
   "outputs": [],
   "source": [
    "coords = np.random.rand(10, 2)\n",
    "x, y = coords[:, 0], coords[:, 1]\n",
    "r = np.sqrt(x**2 + y**2)      # Radius\n",
    "theta = np.arctan2(y, x)      # Angle (radians)\n",
    "polar = np.column_stack((r, theta))\n",
    "print(\"Polar Coordinates:\\n\", polar)\n",
    "print(\"Polar Coordinates (radians):\\n\", polar[:, 1])"
   ]
  },
  {
   "cell_type": "markdown",
   "metadata": {},
   "source": [
    "#### 45. Create random vector of size 10 and replace the maximum value by 0 (★★☆)"
   ]
  },
  {
   "cell_type": "code",
   "execution_count": null,
   "metadata": {},
   "outputs": [],
   "source": [
    "import numpy as np\n",
    "vect = np.random.rand(10)\n",
    "vect[vect.argmax()] = 0\n",
    "print(\"Modified Vector:\", vect)"
   ]
  }
 ],
 "metadata": {
  "kernelspec": {
   "display_name": ".venv",
   "language": "python",
   "name": "python3"
  },
  "language_info": {
   "codemirror_mode": {
    "name": "ipython",
    "version": 3
   },
   "file_extension": ".py",
   "mimetype": "text/x-python",
   "name": "python",
   "nbconvert_exporter": "python",
   "pygments_lexer": "ipython3",
   "version": "3.12.3"
  }
 },
 "nbformat": 4,
 "nbformat_minor": 4
}
