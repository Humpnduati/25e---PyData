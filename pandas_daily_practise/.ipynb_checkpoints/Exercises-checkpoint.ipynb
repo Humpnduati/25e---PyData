{
 "cells": [
  {
   "cell_type": "markdown",
   "metadata": {},
   "source": [
    "# Pokemon"
   ]
  },
  {
   "cell_type": "markdown",
   "metadata": {},
   "source": [
    "### Introduction:\n",
    "\n",
    "This time you will create the data.\n",
    "\n",
    "\n",
    "\n",
    "### Step 1. Import the necessary libraries"
   ]
  },
  {
   "cell_type": "code",
   "execution_count": null,
   "metadata": {
    "collapsed": false
   },
   "outputs": [],
   "source": [
    "import pandas as pd"
   ]
  },
  {
   "cell_type": "markdown",
   "metadata": {},
   "source": [
    "### Step 2. Create a data dictionary that looks like the DataFrame below"
   ]
  },
  {
   "cell_type": "code",
   "execution_count": null,
   "metadata": {
    "collapsed": true
   },
   "outputs": [
    {
     "name": "stdout",
     "output_type": "stream",
     "text": [
      "   evolution  hp        name pokedox   type\n",
      "0    Ivysaur  45   Bulbasaur     yes  grass\n",
      "1  Charmleon  39  Charmander      no   fire\n",
      "2  Wartortle  44    Squirtle     yes  water\n",
      "3    Metapod  45     Catepie      no    bug\n"
     ]
    }
   ],
   "source": [
    "data = {\n",
    "    'evolution':['Ivysaur', 'Charmleon', 'Wartortle', 'Metapod'],\n",
    "    'hp':[45, 39, 44, 45],\n",
    "    'name':['Bulbasaur', 'Charmander', 'Squirtle', 'Catepie'],\n",
    "    'pokedox':['yes', 'no', 'yes', 'no'],\n",
    "    'type':['grass', 'fire', 'water', 'bug']\n",
    "}\n",
    "\n",
    "df = pd.DataFrame(data).head()\n",
    "print(df)"
   ]
  },
  {
   "cell_type": "markdown",
   "metadata": {},
   "source": [
    "### Step 3. Assign it to a variable called pokemon"
   ]
  },
  {
   "cell_type": "code",
   "execution_count": 13,
   "metadata": {
    "collapsed": false
   },
   "outputs": [
    {
     "name": "stdout",
     "output_type": "stream",
     "text": [
      "   evolution  hp        name pokedox   type\n",
      "0    Ivysaur  45   Bulbasaur     yes  grass\n",
      "1  Charmleon  39  Charmander      no   fire\n",
      "2  Wartortle  44    Squirtle     yes  water\n",
      "3    Metapod  45     Catepie      no    bug\n"
     ]
    }
   ],
   "source": [
    "pokemon = df\n",
    "print(pokemon)"
   ]
  },
  {
   "cell_type": "markdown",
   "metadata": {},
   "source": [
    "### Step 4. Ops...it seems the DataFrame columns are in alphabetical order. Place  the order of the columns as name, type, hp, evolution, pokedex"
   ]
  },
  {
   "cell_type": "code",
   "execution_count": 14,
   "metadata": {
    "collapsed": false
   },
   "outputs": [
    {
     "name": "stdout",
     "output_type": "stream",
     "text": [
      "         name   type  hp  evolution pokedox\n",
      "0   Bulbasaur  grass  45    Ivysaur     yes\n",
      "1  Charmander   fire  39  Charmleon      no\n",
      "2    Squirtle  water  44  Wartortle     yes\n",
      "3     Catepie    bug  45    Metapod      no\n"
     ]
    }
   ],
   "source": [
    "pokemon =pd.DataFrame(data, columns=['name', 'type', 'hp', 'evolution', 'pokedox']).head()\n",
    "print(pokemon)"
   ]
  },
  {
   "cell_type": "markdown",
   "metadata": {},
   "source": [
    "### Step 5. Add another column called place, and insert what you have in mind."
   ]
  },
  {
   "cell_type": "code",
   "execution_count": 16,
   "metadata": {
    "collapsed": false
   },
   "outputs": [
    {
     "name": "stdout",
     "output_type": "stream",
     "text": [
      "         name   type  hp  evolution pokedox    place\n",
      "0   Bulbasaur  grass  45    Ivysaur     yes  nairobi\n",
      "1  Charmander   fire  39  Charmleon      no  mombasa\n",
      "2    Squirtle  water  44  Wartortle     yes   kisumu\n",
      "3     Catepie    bug  45    Metapod      no   nakuru\n"
     ]
    }
   ],
   "source": [
    "data = {\n",
    "    'evolution':['Ivysaur', 'Charmleon', 'Wartortle', 'Metapod'],\n",
    "    'hp':[45, 39, 44, 45],\n",
    "    'name':['Bulbasaur', 'Charmander', 'Squirtle', 'Catepie'],\n",
    "    'pokedox':['yes', 'no', 'yes', 'no'],\n",
    "    'type':['grass', 'fire', 'water', 'bug'],\n",
    "    'place':['nairobi', 'mombasa', 'kisumu', 'nakuru']\n",
    "}\n",
    "pokemon =pd.DataFrame(data, columns=['name', 'type', 'hp', 'evolution', 'pokedox', 'place']).head()\n",
    "print(pokemon)"
   ]
  },
  {
   "cell_type": "markdown",
   "metadata": {},
   "source": [
    "### Step 6. Present the type of each column"
   ]
  },
  {
   "cell_type": "code",
   "execution_count": 19,
   "metadata": {
    "collapsed": false
   },
   "outputs": [
    {
     "name": "stdout",
     "output_type": "stream",
     "text": [
      "name         object\n",
      "type         object\n",
      "hp            int64\n",
      "evolution    object\n",
      "pokedox      object\n",
      "place        object\n",
      "dtype: object\n"
     ]
    }
   ],
   "source": [
    "print(pokemon.dtypes)"
   ]
  },
  {
   "cell_type": "markdown",
   "metadata": {},
   "source": [
    "### BONUS: Create your own question and answer it."
   ]
  },
  {
   "cell_type": "code",
   "execution_count": 21,
   "metadata": {
    "collapsed": true
   },
   "outputs": [
    {
     "data": {
      "application/vnd.microsoft.datawrangler.viewer.v0+json": {
       "columns": [
        {
         "name": "index",
         "rawType": "int64",
         "type": "integer"
        },
        {
         "name": "name",
         "rawType": "object",
         "type": "string"
        },
        {
         "name": "type",
         "rawType": "object",
         "type": "string"
        },
        {
         "name": "hp",
         "rawType": "int64",
         "type": "integer"
        },
        {
         "name": "evolution",
         "rawType": "object",
         "type": "string"
        },
        {
         "name": "pokedox",
         "rawType": "object",
         "type": "string"
        },
        {
         "name": "place",
         "rawType": "object",
         "type": "string"
        }
       ],
       "ref": "023c57c2-cf5e-4a9d-974a-541db95edbfa",
       "rows": [
        [
         "0",
         "Bulbasaur",
         "grass",
         "45",
         "Ivysaur",
         "yes",
         "nairobi"
        ],
        [
         "1",
         "Charmander",
         "fire",
         "39",
         "Charmleon",
         "no",
         "mombasa"
        ]
       ],
       "shape": {
        "columns": 6,
        "rows": 2
       }
      },
      "text/html": [
       "<div>\n",
       "<style scoped>\n",
       "    .dataframe tbody tr th:only-of-type {\n",
       "        vertical-align: middle;\n",
       "    }\n",
       "\n",
       "    .dataframe tbody tr th {\n",
       "        vertical-align: top;\n",
       "    }\n",
       "\n",
       "    .dataframe thead th {\n",
       "        text-align: right;\n",
       "    }\n",
       "</style>\n",
       "<table border=\"1\" class=\"dataframe\">\n",
       "  <thead>\n",
       "    <tr style=\"text-align: right;\">\n",
       "      <th></th>\n",
       "      <th>name</th>\n",
       "      <th>type</th>\n",
       "      <th>hp</th>\n",
       "      <th>evolution</th>\n",
       "      <th>pokedox</th>\n",
       "      <th>place</th>\n",
       "    </tr>\n",
       "  </thead>\n",
       "  <tbody>\n",
       "    <tr>\n",
       "      <th>0</th>\n",
       "      <td>Bulbasaur</td>\n",
       "      <td>grass</td>\n",
       "      <td>45</td>\n",
       "      <td>Ivysaur</td>\n",
       "      <td>yes</td>\n",
       "      <td>nairobi</td>\n",
       "    </tr>\n",
       "    <tr>\n",
       "      <th>1</th>\n",
       "      <td>Charmander</td>\n",
       "      <td>fire</td>\n",
       "      <td>39</td>\n",
       "      <td>Charmleon</td>\n",
       "      <td>no</td>\n",
       "      <td>mombasa</td>\n",
       "    </tr>\n",
       "  </tbody>\n",
       "</table>\n",
       "</div>"
      ],
      "text/plain": [
       "         name   type  hp  evolution pokedox    place\n",
       "0   Bulbasaur  grass  45    Ivysaur     yes  nairobi\n",
       "1  Charmander   fire  39  Charmleon      no  mombasa"
      ]
     },
     "execution_count": 21,
     "metadata": {},
     "output_type": "execute_result"
    }
   ],
   "source": [
    "pokemon.iloc[:2].head()\n"
   ]
  }
 ],
 "metadata": {
  "kernelspec": {
   "display_name": ".venv",
   "language": "python",
   "name": "python3"
  },
  "language_info": {
   "codemirror_mode": {
    "name": "ipython",
    "version": 3
   },
   "file_extension": ".py",
   "mimetype": "text/x-python",
   "name": "python",
   "nbconvert_exporter": "python",
   "pygments_lexer": "ipython3",
   "version": "3.12.3"
  }
 },
 "nbformat": 4,
 "nbformat_minor": 0
}
