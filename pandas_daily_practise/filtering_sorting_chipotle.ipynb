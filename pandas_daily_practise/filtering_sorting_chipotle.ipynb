{
 "cells": [
  {
   "cell_type": "markdown",
   "metadata": {},
   "source": [
    "# Ex1 - Filtering and Sorting Data"
   ]
  },
  {
   "cell_type": "markdown",
   "metadata": {},
   "source": [
    "This time we are going to pull data directly from the internet.\n",
    "Special thanks to: https://github.com/justmarkham for sharing the dataset and materials.\n",
    "\n",
    "### Step 1. Import the necessary libraries"
   ]
  },
  {
   "cell_type": "code",
   "execution_count": null,
   "metadata": {
    "collapsed": false
   },
   "outputs": [],
   "source": [
    "import pandas as pd"
   ]
  },
  {
   "cell_type": "markdown",
   "metadata": {},
   "source": [
    "### Step 2. Import the dataset from this [address](https://raw.githubusercontent.com/justmarkham/DAT8/master/data/chipotle.tsv). "
   ]
  },
  {
   "cell_type": "markdown",
   "metadata": {},
   "source": [
    "### Step 3. Assign it to a variable called chipo."
   ]
  },
  {
   "cell_type": "code",
   "execution_count": null,
   "metadata": {
    "collapsed": false
   },
   "outputs": [],
   "source": [
    "url = 'https://raw.githubusercontent.com/justmarkham/DAT8/master/data/chipotle.tsv'\n",
    "chipo = pd.read_csv(url, sep='\\t')\n"
   ]
  },
  {
   "cell_type": "markdown",
   "metadata": {},
   "source": [
    "### Step 4. How many products cost more than $10.00?"
   ]
  },
  {
   "cell_type": "code",
   "execution_count": 55,
   "metadata": {
    "collapsed": false
   },
   "outputs": [
    {
     "name": "stdout",
     "output_type": "stream",
     "text": [
      "Number of products costing more than $10.00: 13\n"
     ]
    }
   ],
   "source": [
    "item_prices = chipo.groupby('item_name')['item_price'].first()\n",
    "over_10 = item_prices[item_prices > 10].count()\n",
    "print(\"Number of products costing more than $10.00:\", over_10)"
   ]
  },
  {
   "cell_type": "markdown",
   "metadata": {},
   "source": [
    "### Step 5. What is the price of each item? \n",
    "###### print a data frame with only two columns item_name and item_price"
   ]
  },
  {
   "cell_type": "code",
   "execution_count": 50,
   "metadata": {
    "collapsed": false
   },
   "outputs": [
    {
     "data": {
      "text/plain": [
       "item_name\n",
       "6 Pack Soft Drink                         6.49\n",
       "Barbacoa Bowl                            11.75\n",
       "Barbacoa Burrito                          8.99\n",
       "Barbacoa Crispy Tacos                    11.75\n",
       "Barbacoa Salad Bowl                      11.89\n",
       "Barbacoa Soft Tacos                       9.25\n",
       "Bottled Water                             1.09\n",
       "Bowl                                     22.20\n",
       "Burrito                                   7.40\n",
       "Canned Soda                               2.18\n",
       "Canned Soft Drink                         1.25\n",
       "Carnitas Bowl                             8.99\n",
       "Carnitas Burrito                          8.99\n",
       "Carnitas Crispy Tacos                     9.25\n",
       "Carnitas Salad                            8.99\n",
       "Carnitas Salad Bowl                      11.89\n",
       "Carnitas Soft Tacos                       9.25\n",
       "Chicken Bowl                             16.98\n",
       "Chicken Burrito                           8.49\n",
       "Chicken Crispy Tacos                      8.75\n",
       "Chicken Salad                            10.98\n",
       "Chicken Salad Bowl                        8.75\n",
       "Chicken Soft Tacos                        8.75\n",
       "Chips                                     2.15\n",
       "Chips and Fresh Tomato Salsa              2.39\n",
       "Chips and Guacamole                       4.45\n",
       "Chips and Mild Fresh Tomato Salsa         3.00\n",
       "Chips and Roasted Chili Corn Salsa        2.95\n",
       "Chips and Roasted Chili-Corn Salsa        2.39\n",
       "Chips and Tomatillo Green Chili Salsa     2.95\n",
       "Chips and Tomatillo Red Chili Salsa       2.95\n",
       "Chips and Tomatillo-Green Chili Salsa     2.39\n",
       "Chips and Tomatillo-Red Chili Salsa       2.39\n",
       "Crispy Tacos                              7.40\n",
       "Izze                                      3.39\n",
       "Nantucket Nectar                          3.39\n",
       "Salad                                     7.40\n",
       "Side of Chips                             1.69\n",
       "Steak Bowl                                8.99\n",
       "Steak Burrito                            11.75\n",
       "Steak Crispy Tacos                        9.25\n",
       "Steak Salad                               8.99\n",
       "Steak Salad Bowl                         23.78\n",
       "Steak Soft Tacos                          9.25\n",
       "Veggie Bowl                              11.25\n",
       "Veggie Burrito                           11.25\n",
       "Veggie Crispy Tacos                       8.49\n",
       "Veggie Salad                              8.49\n",
       "Veggie Salad Bowl                        11.25\n",
       "Veggie Soft Tacos                        11.25\n",
       "Name: item_price, dtype: float64"
      ]
     },
     "execution_count": 50,
     "metadata": {},
     "output_type": "execute_result"
    }
   ],
   "source": [
    "item_prices = chipo.groupby('item_name')['item_price'].first()\n",
    "item_prices"
   ]
  },
  {
   "cell_type": "markdown",
   "metadata": {},
   "source": [
    "### Step 6. Sort by the name of the item"
   ]
  },
  {
   "cell_type": "code",
   "execution_count": 56,
   "metadata": {
    "collapsed": false
   },
   "outputs": [
    {
     "name": "stdout",
     "output_type": "stream",
     "text": [
      "\n",
      "Data sorted by item name:\n",
      "      order_id  quantity          item_name choice_description  item_price\n",
      "3389      1360         2  6 Pack Soft Drink        [Diet Coke]       12.98\n",
      "341        148         1  6 Pack Soft Drink        [Diet Coke]        6.49\n",
      "1849       749         1  6 Pack Soft Drink             [Coke]        6.49\n",
      "1860       754         1  6 Pack Soft Drink        [Diet Coke]        6.49\n",
      "2713      1076         1  6 Pack Soft Drink             [Coke]        6.49\n"
     ]
    }
   ],
   "source": [
    "sorted_items = chipo.sort_values('item_name')\n",
    "print(\"\\nData sorted by item name:\")\n",
    "print(sorted_items.head())"
   ]
  },
  {
   "cell_type": "markdown",
   "metadata": {},
   "source": [
    "### Step 7. What was the quantity of the most expensive item ordered?"
   ]
  },
  {
   "cell_type": "code",
   "execution_count": 57,
   "metadata": {
    "collapsed": false
   },
   "outputs": [
    {
     "name": "stdout",
     "output_type": "stream",
     "text": [
      "\n",
      "Most expensive item ordered:\n",
      "Item: Chips and Fresh Tomato Salsa, Quantity: 15\n"
     ]
    }
   ],
   "source": [
    "most_expensive = chipo.loc[chipo['item_price'].idxmax()]\n",
    "print(\"\\nMost expensive item ordered:\")\n",
    "print(f\"Item: {most_expensive['item_name']}, Quantity: {most_expensive['quantity']}\")"
   ]
  },
  {
   "cell_type": "markdown",
   "metadata": {},
   "source": [
    "### Step 8. How many times was a Veggie Salad Bowl ordered?"
   ]
  },
  {
   "cell_type": "code",
   "execution_count": 58,
   "metadata": {
    "collapsed": false
   },
   "outputs": [
    {
     "name": "stdout",
     "output_type": "stream",
     "text": [
      "\n",
      "Number of Veggie Salad Bowls ordered: 18\n"
     ]
    }
   ],
   "source": [
    "veggie_count = chipo[chipo['item_name'] == 'Veggie Salad Bowl']['quantity'].sum()\n",
    "print(\"\\nNumber of Veggie Salad Bowls ordered:\", veggie_count)"
   ]
  },
  {
   "cell_type": "markdown",
   "metadata": {},
   "source": [
    "### Step 9. How many times did someone order more than one Canned Soda?"
   ]
  },
  {
   "cell_type": "code",
   "execution_count": 59,
   "metadata": {
    "collapsed": false
   },
   "outputs": [
    {
     "name": "stdout",
     "output_type": "stream",
     "text": [
      "\n",
      "Number of times more than one Canned Soda was ordered: 20\n"
     ]
    }
   ],
   "source": [
    "canned_soda_orders = chipo[(chipo['item_name'] == 'Canned Soda') & (chipo['quantity'] > 1)]\n",
    "print(\"\\nNumber of times more than one Canned Soda was ordered:\", len(canned_soda_orders))"
   ]
  }
 ],
 "metadata": {
  "kernelspec": {
   "display_name": ".venv",
   "language": "python",
   "name": "python3"
  },
  "language_info": {
   "codemirror_mode": {
    "name": "ipython",
    "version": 3
   },
   "file_extension": ".py",
   "mimetype": "text/x-python",
   "name": "python",
   "nbconvert_exporter": "python",
   "pygments_lexer": "ipython3",
   "version": "3.13.3"
  }
 },
 "nbformat": 4,
 "nbformat_minor": 0
}
