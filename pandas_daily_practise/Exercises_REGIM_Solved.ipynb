grouped_df = df.groupby(['regiment', 'company'])
print(grouped_df.mean())