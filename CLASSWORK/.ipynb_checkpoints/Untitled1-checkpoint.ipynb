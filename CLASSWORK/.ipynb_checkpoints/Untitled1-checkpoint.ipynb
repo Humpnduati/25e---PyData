{
 "cells": [
  {
   "cell_type": "code",
   "execution_count": null,
   "id": "ae6c451d-7b25-424f-a222-cde92a174570",
   "metadata": {},
   "outputs": [],
   "source": [
    "# HIGH PERFOMANCE PANDAS"
   ]
  },
  {
   "cell_type": "code",
   "execution_count": 4,
   "id": "e8a2395a-d953-4a04-9b10-54575f3af468",
   "metadata": {},
   "outputs": [],
   "source": [
    "import numpy as np\n"
   ]
  },
  {
   "cell_type": "code",
   "execution_count": 5,
   "id": "cc41942c-7fbb-4564-9455-5c2c1065324f",
   "metadata": {},
   "outputs": [
    {
     "name": "stdout",
     "output_type": "stream",
     "text": [
      "3.24 ms ± 274 μs per loop (mean ± std. dev. of 7 runs, 100 loops each)\n"
     ]
    }
   ],
   "source": [
    "rng = np.random.RandomState(42)\n",
    "x = rng.rand(1000000)\n",
    "y = rng.rand(1000000)\n",
    "%timeit x + y"
   ]
  },
  {
   "cell_type": "code",
   "execution_count": 6,
   "id": "54545a9d-1e01-4ee8-b567-456e2c7ed7e9",
   "metadata": {},
   "outputs": [
    {
     "name": "stdout",
     "output_type": "stream",
     "text": [
      "219 ms ± 8.13 ms per loop (mean ± std. dev. of 7 runs, 1 loop each)\n"
     ]
    }
   ],
   "source": [
    "%timeit np.fromiter((xi + yi for xi, yi in zip(x, y)), dtype=x.dtype, count=len(x))"
   ]
  },
  {
   "cell_type": "code",
   "execution_count": 7,
   "id": "dfbbbcf2-df1d-4bbb-97de-df1b44a5e0c4",
   "metadata": {},
   "outputs": [],
   "source": [
    "#pandas.eval() for Efficient Operations\n"
   ]
  },
  {
   "cell_type": "code",
   "execution_count": 8,
   "id": "03ce4de5-af9f-4c35-b003-510f07a63897",
   "metadata": {},
   "outputs": [],
   "source": [
    "import pandas as pd"
   ]
  },
  {
   "cell_type": "code",
   "execution_count": 10,
   "id": "e62ae69e-f37f-4a3c-afad-0e9c1961c737",
   "metadata": {},
   "outputs": [],
   "source": [
    "nrows, ncols = 100000, 100\n",
    "rng = np.random.RandomState(42)\n",
    "df1, df2, df3, df4 = (pd.DataFrame(rng.rand(nrows, ncols))\n",
    "                     for i in range (4))"
   ]
  },
  {
   "cell_type": "code",
   "execution_count": 11,
   "id": "4e4f1a7d-2294-433c-8e8a-8af153009b24",
   "metadata": {},
   "outputs": [
    {
     "name": "stdout",
     "output_type": "stream",
     "text": [
      "The slowest run took 5.20 times longer than the fastest. This could mean that an intermediate result is being cached.\n",
      "238 ms ± 165 ms per loop (mean ± std. dev. of 7 runs, 1 loop each)\n"
     ]
    }
   ],
   "source": [
    "#result can be computed via pd.eval by constructing the expression as a string\n",
    "%timeit pd.eval('df1 + df2 + df3 + df4')"
   ]
  },
  {
   "cell_type": "code",
   "execution_count": 12,
   "id": "f258eb9b-d7f6-4bd7-b17b-299a3dbca18f",
   "metadata": {},
   "outputs": [
    {
     "data": {
      "text/plain": [
       "True"
      ]
     },
     "execution_count": 12,
     "metadata": {},
     "output_type": "execute_result"
    }
   ],
   "source": [
    "#The eval() version of this expression is about 50% faster (and uses much less memory), while giving the same resultThe eval() version of this expression is about 50% faster (and uses much less memory), while giving the same result\n",
    "np.allclose(df1 + df2+ df3+ df4,\n",
    "           pd.eval('df1 + df2 + df3 + df4'))"
   ]
  },
  {
   "cell_type": "code",
   "execution_count": 13,
   "id": "ac68df57-7040-4be7-9ddc-ef86594d25fd",
   "metadata": {},
   "outputs": [],
   "source": [
    "#  Operations supported by pd.eval()\n",
    "df1, df2, df3, df4, df5 = (pd.DataFrame(rng.randint(0, 1000, (100, 3)))\n",
    "                          for i in range (5))"
   ]
  },
  {
   "cell_type": "code",
   "execution_count": 14,
   "id": "d7b82de3-1e66-4199-b62a-7078119861ce",
   "metadata": {},
   "outputs": [
    {
     "data": {
      "text/plain": [
       "True"
      ]
     },
     "execution_count": 14,
     "metadata": {},
     "output_type": "execute_result"
    }
   ],
   "source": [
    "# Arithmetic operators\n",
    "# pd.eval() supports all arithmetic operators\n",
    "result1 = -df1 * df2 / (df3 + df4) - df5\n",
    "result2 = pd.eval('-df1 * df2 / (df3 + df4) - df5')\n",
    "np.allclose(result1, result2)"
   ]
  },
  {
   "cell_type": "code",
   "execution_count": 15,
   "id": "b7125598-dab2-43a0-ac96-4a91de019b69",
   "metadata": {},
   "outputs": [
    {
     "data": {
      "text/plain": [
       "True"
      ]
     },
     "execution_count": 15,
     "metadata": {},
     "output_type": "execute_result"
    }
   ],
   "source": [
    "# Comparison operators\n",
    "#pd.eval() supports all comparison operators, including chained expressions:\n",
    "result1 = (df1 < df2) & (df2 <= df3) & (df3 != df4)\n",
    "result2 = pd.eval('df1 < df2 <= df3 != df4')\n",
    "np.allclose(result1, result2)"
   ]
  },
  {
   "cell_type": "code",
   "execution_count": 17,
   "id": "b587772c-e342-49bd-bfd1-282270075377",
   "metadata": {},
   "outputs": [
    {
     "data": {
      "text/plain": [
       "True"
      ]
     },
     "execution_count": 17,
     "metadata": {},
     "output_type": "execute_result"
    }
   ],
   "source": [
    "# Bitwise operators\n",
    "#pd.eval() supports the & and | bitwise operators\n",
    "result1 = (df1 < 0.5) & (df2 < 0.5) | (df3 < df4)\n",
    "result2 =  pd.eval('(df1 < 0.5) & (df2 < 0.5) | (df3 < df4)')\n",
    "np.allclose(result1, result2)"
   ]
  },
  {
   "cell_type": "code",
   "execution_count": 19,
   "id": "40a48521-0922-4bba-8910-440d0330fdf4",
   "metadata": {},
   "outputs": [
    {
     "data": {
      "text/plain": [
       "True"
      ]
     },
     "execution_count": 19,
     "metadata": {},
     "output_type": "execute_result"
    }
   ],
   "source": [
    "# In addition, it supports the use of the literal and and or in Boolean expressions\n",
    "result3 = pd.eval('(df1< 0.5) and (df2 < 0.5) or (df3 < df4)')\n",
    "np.allclose(result1, result3)"
   ]
  },
  {
   "cell_type": "code",
   "execution_count": 21,
   "id": "50311ddd-03d2-4168-af02-74e512082db9",
   "metadata": {},
   "outputs": [
    {
     "data": {
      "text/plain": [
       "True"
      ]
     },
     "execution_count": 21,
     "metadata": {},
     "output_type": "execute_result"
    }
   ],
   "source": [
    "# Object attributes and indices\n",
    "#pd.eval() supports access to object attributes via the obj.attr syntax, and indexes via the obj[index]\n",
    "\n",
    "result1 = df2.T[0] + df3.iloc[1]\n",
    "result2 = pd.eval('df2.T[0] + df3.iloc[1]')\n",
    "np.allclose(result1, result2)"
   ]
  },
  {
   "cell_type": "code",
   "execution_count": 22,
   "id": "1448a2f9-d720-4f10-94df-f6e629996af4",
   "metadata": {},
   "outputs": [
    {
     "data": {
      "text/html": [
       "<div>\n",
       "<style scoped>\n",
       "    .dataframe tbody tr th:only-of-type {\n",
       "        vertical-align: middle;\n",
       "    }\n",
       "\n",
       "    .dataframe tbody tr th {\n",
       "        vertical-align: top;\n",
       "    }\n",
       "\n",
       "    .dataframe thead th {\n",
       "        text-align: right;\n",
       "    }\n",
       "</style>\n",
       "<table border=\"1\" class=\"dataframe\">\n",
       "  <thead>\n",
       "    <tr style=\"text-align: right;\">\n",
       "      <th></th>\n",
       "      <th>A</th>\n",
       "      <th>B</th>\n",
       "      <th>C</th>\n",
       "    </tr>\n",
       "  </thead>\n",
       "  <tbody>\n",
       "    <tr>\n",
       "      <th>0</th>\n",
       "      <td>0.375506</td>\n",
       "      <td>0.406939</td>\n",
       "      <td>0.069938</td>\n",
       "    </tr>\n",
       "    <tr>\n",
       "      <th>1</th>\n",
       "      <td>0.069087</td>\n",
       "      <td>0.235615</td>\n",
       "      <td>0.154374</td>\n",
       "    </tr>\n",
       "    <tr>\n",
       "      <th>2</th>\n",
       "      <td>0.677945</td>\n",
       "      <td>0.433839</td>\n",
       "      <td>0.652324</td>\n",
       "    </tr>\n",
       "    <tr>\n",
       "      <th>3</th>\n",
       "      <td>0.264038</td>\n",
       "      <td>0.808055</td>\n",
       "      <td>0.347197</td>\n",
       "    </tr>\n",
       "    <tr>\n",
       "      <th>4</th>\n",
       "      <td>0.589161</td>\n",
       "      <td>0.252418</td>\n",
       "      <td>0.557789</td>\n",
       "    </tr>\n",
       "    <tr>\n",
       "      <th>...</th>\n",
       "      <td>...</td>\n",
       "      <td>...</td>\n",
       "      <td>...</td>\n",
       "    </tr>\n",
       "    <tr>\n",
       "      <th>995</th>\n",
       "      <td>0.082646</td>\n",
       "      <td>0.036840</td>\n",
       "      <td>0.439733</td>\n",
       "    </tr>\n",
       "    <tr>\n",
       "      <th>996</th>\n",
       "      <td>0.008826</td>\n",
       "      <td>0.896578</td>\n",
       "      <td>0.723374</td>\n",
       "    </tr>\n",
       "    <tr>\n",
       "      <th>997</th>\n",
       "      <td>0.907270</td>\n",
       "      <td>0.916424</td>\n",
       "      <td>0.978655</td>\n",
       "    </tr>\n",
       "    <tr>\n",
       "      <th>998</th>\n",
       "      <td>0.758995</td>\n",
       "      <td>0.535431</td>\n",
       "      <td>0.347766</td>\n",
       "    </tr>\n",
       "    <tr>\n",
       "      <th>999</th>\n",
       "      <td>0.369260</td>\n",
       "      <td>0.753815</td>\n",
       "      <td>0.280455</td>\n",
       "    </tr>\n",
       "  </tbody>\n",
       "</table>\n",
       "<p>1000 rows × 3 columns</p>\n",
       "</div>"
      ],
      "text/plain": [
       "            A         B         C\n",
       "0    0.375506  0.406939  0.069938\n",
       "1    0.069087  0.235615  0.154374\n",
       "2    0.677945  0.433839  0.652324\n",
       "3    0.264038  0.808055  0.347197\n",
       "4    0.589161  0.252418  0.557789\n",
       "..        ...       ...       ...\n",
       "995  0.082646  0.036840  0.439733\n",
       "996  0.008826  0.896578  0.723374\n",
       "997  0.907270  0.916424  0.978655\n",
       "998  0.758995  0.535431  0.347766\n",
       "999  0.369260  0.753815  0.280455\n",
       "\n",
       "[1000 rows x 3 columns]"
      ]
     },
     "execution_count": 22,
     "metadata": {},
     "output_type": "execute_result"
    }
   ],
   "source": [
    "# DataFrame.eval() for Column-Wise Operations\n",
    "df = pd.DataFrame(rng.rand(1000, 3), columns=['A', 'B', 'C', ])\n",
    "df"
   ]
  },
  {
   "cell_type": "code",
   "execution_count": 23,
   "id": "8211cdc6-57f1-4dad-9688-f31ce7868429",
   "metadata": {},
   "outputs": [
    {
     "data": {
      "text/plain": [
       "True"
      ]
     },
     "execution_count": 23,
     "metadata": {},
     "output_type": "execute_result"
    }
   ],
   "source": [
    "# Using pd.eval() as above, we can compute expressions with the three columns like this\n",
    "result1 = (df['A'] + df['B']) / (df['C'] - 1)\n",
    "result2 = pd.eval('(df.A + df.B) / (df.C - 1)')\n",
    "np.allclose(result1, result2)"
   ]
  },
  {
   "cell_type": "code",
   "execution_count": null,
   "id": "614361af-a7bf-4cf5-bf80-fa0bbdbf9fee",
   "metadata": {},
   "outputs": [],
   "source": []
  }
 ],
 "metadata": {
  "kernelspec": {
   "display_name": "Python 3 (ipykernel)",
   "language": "python",
   "name": "python3"
  },
  "language_info": {
   "codemirror_mode": {
    "name": "ipython",
    "version": 3
   },
   "file_extension": ".py",
   "mimetype": "text/x-python",
   "name": "python",
   "nbconvert_exporter": "python",
   "pygments_lexer": "ipython3",
   "version": "3.13.3"
  }
 },
 "nbformat": 4,
 "nbformat_minor": 5
}
