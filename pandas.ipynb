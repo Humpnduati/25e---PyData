{
 "cells": [
  {
   "cell_type": "code",
   "execution_count": null,
   "id": "e2439adf",
   "metadata": {},
   "outputs": [],
   "source": [
    "import pandas as pd\n",
    "grade = pd.Series([85, 90, 78, 92])\n",
    "\n",
    "print(grade)"
   ]
  },
  {
   "cell_type": "code",
   "execution_count": 6,
   "id": "2b7c4d94",
   "metadata": {},
   "outputs": [
    {
     "data": {
      "application/vnd.microsoft.datawrangler.viewer.v0+json": {
       "columns": [
        {
         "name": "index",
         "rawType": "int64",
         "type": "integer"
        },
        {
         "name": "Brands",
         "rawType": "object",
         "type": "string"
        },
        {
         "name": "Models",
         "rawType": "object",
         "type": "string"
        },
        {
         "name": "Colors",
         "rawType": "object",
         "type": "string"
        },
        {
         "name": "Memory",
         "rawType": "object",
         "type": "string"
        },
        {
         "name": "Storage",
         "rawType": "object",
         "type": "unknown"
        },
        {
         "name": "Camera",
         "rawType": "object",
         "type": "string"
        },
        {
         "name": "Rating",
         "rawType": "float64",
         "type": "float"
        },
        {
         "name": "Selling Price",
         "rawType": "int64",
         "type": "integer"
        },
        {
         "name": "Original Price",
         "rawType": "int64",
         "type": "integer"
        },
        {
         "name": "Mobile",
         "rawType": "object",
         "type": "string"
        },
        {
         "name": "Discount",
         "rawType": "int64",
         "type": "integer"
        },
        {
         "name": "discount percentage",
         "rawType": "float64",
         "type": "float"
        }
       ],
       "ref": "baaec8f1-664f-4164-9f31-ad0187134cd8",
       "rows": [
        [
         "0",
         "SAMSUNG",
         "GALAXY M31S ",
         "Mirage Black",
         "8 GB",
         "128 GB",
         "Yes",
         "4.3",
         "19330",
         "20999",
         "SAMSUNG GALAXY M31S ",
         "1669",
         "7.947997523691604"
        ],
        [
         "1",
         "Nokia",
         "3.2",
         "Steel",
         "2 GB",
         "16 GB",
         "Yes",
         "3.8",
         "10199",
         "10199",
         "Nokia 3.2",
         "0",
         "0.0"
        ],
        [
         "2",
         "realme",
         "C2 ",
         "Diamond Black",
         "2 GB",
         null,
         "Yes",
         "4.4",
         "6999",
         "7999",
         "realme C2 ",
         "1000",
         "12.50156269533692"
        ],
        [
         "3",
         "Infinix",
         "Note 5",
         "Ice Blue",
         "4 GB",
         "64 GB",
         "Yes",
         "4.2",
         "12999",
         "12999",
         "Infinix Note 5",
         "0",
         "0.0"
        ],
        [
         "4",
         "Apple",
         "iPhone 11 ",
         "Black",
         "4GB",
         "64 GB",
         "Yes",
         "4.6",
         "49900",
         "49900",
         "Apple iPhone 11 ",
         "0",
         "0.0"
        ]
       ],
       "shape": {
        "columns": 12,
        "rows": 5
       }
      },
      "text/html": [
       "<div>\n",
       "<style scoped>\n",
       "    .dataframe tbody tr th:only-of-type {\n",
       "        vertical-align: middle;\n",
       "    }\n",
       "\n",
       "    .dataframe tbody tr th {\n",
       "        vertical-align: top;\n",
       "    }\n",
       "\n",
       "    .dataframe thead th {\n",
       "        text-align: right;\n",
       "    }\n",
       "</style>\n",
       "<table border=\"1\" class=\"dataframe\">\n",
       "  <thead>\n",
       "    <tr style=\"text-align: right;\">\n",
       "      <th></th>\n",
       "      <th>Brands</th>\n",
       "      <th>Models</th>\n",
       "      <th>Colors</th>\n",
       "      <th>Memory</th>\n",
       "      <th>Storage</th>\n",
       "      <th>Camera</th>\n",
       "      <th>Rating</th>\n",
       "      <th>Selling Price</th>\n",
       "      <th>Original Price</th>\n",
       "      <th>Mobile</th>\n",
       "      <th>Discount</th>\n",
       "      <th>discount percentage</th>\n",
       "    </tr>\n",
       "  </thead>\n",
       "  <tbody>\n",
       "    <tr>\n",
       "      <th>0</th>\n",
       "      <td>SAMSUNG</td>\n",
       "      <td>GALAXY M31S</td>\n",
       "      <td>Mirage Black</td>\n",
       "      <td>8 GB</td>\n",
       "      <td>128 GB</td>\n",
       "      <td>Yes</td>\n",
       "      <td>4.3</td>\n",
       "      <td>19330</td>\n",
       "      <td>20999</td>\n",
       "      <td>SAMSUNG GALAXY M31S</td>\n",
       "      <td>1669</td>\n",
       "      <td>7.947998</td>\n",
       "    </tr>\n",
       "    <tr>\n",
       "      <th>1</th>\n",
       "      <td>Nokia</td>\n",
       "      <td>3.2</td>\n",
       "      <td>Steel</td>\n",
       "      <td>2 GB</td>\n",
       "      <td>16 GB</td>\n",
       "      <td>Yes</td>\n",
       "      <td>3.8</td>\n",
       "      <td>10199</td>\n",
       "      <td>10199</td>\n",
       "      <td>Nokia 3.2</td>\n",
       "      <td>0</td>\n",
       "      <td>0.000000</td>\n",
       "    </tr>\n",
       "    <tr>\n",
       "      <th>2</th>\n",
       "      <td>realme</td>\n",
       "      <td>C2</td>\n",
       "      <td>Diamond Black</td>\n",
       "      <td>2 GB</td>\n",
       "      <td>NaN</td>\n",
       "      <td>Yes</td>\n",
       "      <td>4.4</td>\n",
       "      <td>6999</td>\n",
       "      <td>7999</td>\n",
       "      <td>realme C2</td>\n",
       "      <td>1000</td>\n",
       "      <td>12.501563</td>\n",
       "    </tr>\n",
       "    <tr>\n",
       "      <th>3</th>\n",
       "      <td>Infinix</td>\n",
       "      <td>Note 5</td>\n",
       "      <td>Ice Blue</td>\n",
       "      <td>4 GB</td>\n",
       "      <td>64 GB</td>\n",
       "      <td>Yes</td>\n",
       "      <td>4.2</td>\n",
       "      <td>12999</td>\n",
       "      <td>12999</td>\n",
       "      <td>Infinix Note 5</td>\n",
       "      <td>0</td>\n",
       "      <td>0.000000</td>\n",
       "    </tr>\n",
       "    <tr>\n",
       "      <th>4</th>\n",
       "      <td>Apple</td>\n",
       "      <td>iPhone 11</td>\n",
       "      <td>Black</td>\n",
       "      <td>4GB</td>\n",
       "      <td>64 GB</td>\n",
       "      <td>Yes</td>\n",
       "      <td>4.6</td>\n",
       "      <td>49900</td>\n",
       "      <td>49900</td>\n",
       "      <td>Apple iPhone 11</td>\n",
       "      <td>0</td>\n",
       "      <td>0.000000</td>\n",
       "    </tr>\n",
       "  </tbody>\n",
       "</table>\n",
       "</div>"
      ],
      "text/plain": [
       "    Brands        Models         Colors Memory Storage Camera  Rating  \\\n",
       "0  SAMSUNG  GALAXY M31S    Mirage Black   8 GB  128 GB    Yes     4.3   \n",
       "1    Nokia           3.2          Steel   2 GB   16 GB    Yes     3.8   \n",
       "2   realme           C2   Diamond Black   2 GB     NaN    Yes     4.4   \n",
       "3  Infinix        Note 5       Ice Blue   4 GB   64 GB    Yes     4.2   \n",
       "4    Apple    iPhone 11           Black    4GB   64 GB    Yes     4.6   \n",
       "\n",
       "   Selling Price  Original Price                Mobile  Discount  \\\n",
       "0          19330           20999  SAMSUNG GALAXY M31S       1669   \n",
       "1          10199           10199             Nokia 3.2         0   \n",
       "2           6999            7999            realme C2       1000   \n",
       "3          12999           12999        Infinix Note 5         0   \n",
       "4          49900           49900      Apple iPhone 11          0   \n",
       "\n",
       "   discount percentage  \n",
       "0             7.947998  \n",
       "1             0.000000  \n",
       "2            12.501563  \n",
       "3             0.000000  \n",
       "4             0.000000  "
      ]
     },
     "execution_count": 6,
     "metadata": {},
     "output_type": "execute_result"
    }
   ],
   "source": [
    "data=pd.read_csv(r'/home/nduatihump/25e---PyData/Sales.csv')\n",
    "data.head()"
   ]
  },
  {
   "cell_type": "code",
   "execution_count": 8,
   "id": "28ba13cf",
   "metadata": {},
   "outputs": [
    {
     "data": {
      "application/vnd.microsoft.datawrangler.viewer.v0+json": {
       "columns": [
        {
         "name": "index",
         "rawType": "int64",
         "type": "integer"
        },
        {
         "name": "Brands",
         "rawType": "object",
         "type": "string"
        },
        {
         "name": "Models",
         "rawType": "object",
         "type": "string"
        },
        {
         "name": "Colors",
         "rawType": "object",
         "type": "string"
        },
        {
         "name": "Memory",
         "rawType": "object",
         "type": "string"
        },
        {
         "name": "Storage",
         "rawType": "object",
         "type": "string"
        },
        {
         "name": "Camera",
         "rawType": "object",
         "type": "string"
        },
        {
         "name": "Rating",
         "rawType": "float64",
         "type": "float"
        },
        {
         "name": "Selling Price",
         "rawType": "int64",
         "type": "integer"
        },
        {
         "name": "Original Price",
         "rawType": "int64",
         "type": "integer"
        },
        {
         "name": "Mobile",
         "rawType": "object",
         "type": "string"
        },
        {
         "name": "Discount",
         "rawType": "int64",
         "type": "integer"
        },
        {
         "name": "discount percentage",
         "rawType": "float64",
         "type": "float"
        }
       ],
       "ref": "37956a22-88cb-4bf1-83fd-4d209be44521",
       "rows": [
        [
         "0",
         "SAMSUNG",
         "GALAXY M31S ",
         "Mirage Black",
         "8 GB",
         "128 GB",
         "Yes",
         "4.3",
         "19330",
         "20999",
         "SAMSUNG GALAXY M31S ",
         "1669",
         "7.947997523691604"
        ],
        [
         "4",
         "Apple",
         "iPhone 11 ",
         "Black",
         "4GB",
         "64 GB",
         "Yes",
         "4.6",
         "49900",
         "49900",
         "Apple iPhone 11 ",
         "0",
         "0.0"
        ],
        [
         "6",
         "Apple",
         "iPhone 13 Mini ",
         "Pink",
         "6 GB",
         "512 GB",
         "Yes",
         null,
         "99900",
         "99900",
         "Apple iPhone 13 Mini ",
         "0",
         "0.0"
        ]
       ],
       "shape": {
        "columns": 12,
        "rows": 3
       }
      },
      "text/html": [
       "<div>\n",
       "<style scoped>\n",
       "    .dataframe tbody tr th:only-of-type {\n",
       "        vertical-align: middle;\n",
       "    }\n",
       "\n",
       "    .dataframe tbody tr th {\n",
       "        vertical-align: top;\n",
       "    }\n",
       "\n",
       "    .dataframe thead th {\n",
       "        text-align: right;\n",
       "    }\n",
       "</style>\n",
       "<table border=\"1\" class=\"dataframe\">\n",
       "  <thead>\n",
       "    <tr style=\"text-align: right;\">\n",
       "      <th></th>\n",
       "      <th>Brands</th>\n",
       "      <th>Models</th>\n",
       "      <th>Colors</th>\n",
       "      <th>Memory</th>\n",
       "      <th>Storage</th>\n",
       "      <th>Camera</th>\n",
       "      <th>Rating</th>\n",
       "      <th>Selling Price</th>\n",
       "      <th>Original Price</th>\n",
       "      <th>Mobile</th>\n",
       "      <th>Discount</th>\n",
       "      <th>discount percentage</th>\n",
       "    </tr>\n",
       "  </thead>\n",
       "  <tbody>\n",
       "    <tr>\n",
       "      <th>0</th>\n",
       "      <td>SAMSUNG</td>\n",
       "      <td>GALAXY M31S</td>\n",
       "      <td>Mirage Black</td>\n",
       "      <td>8 GB</td>\n",
       "      <td>128 GB</td>\n",
       "      <td>Yes</td>\n",
       "      <td>4.3</td>\n",
       "      <td>19330</td>\n",
       "      <td>20999</td>\n",
       "      <td>SAMSUNG GALAXY M31S</td>\n",
       "      <td>1669</td>\n",
       "      <td>7.947998</td>\n",
       "    </tr>\n",
       "    <tr>\n",
       "      <th>4</th>\n",
       "      <td>Apple</td>\n",
       "      <td>iPhone 11</td>\n",
       "      <td>Black</td>\n",
       "      <td>4GB</td>\n",
       "      <td>64 GB</td>\n",
       "      <td>Yes</td>\n",
       "      <td>4.6</td>\n",
       "      <td>49900</td>\n",
       "      <td>49900</td>\n",
       "      <td>Apple iPhone 11</td>\n",
       "      <td>0</td>\n",
       "      <td>0.000000</td>\n",
       "    </tr>\n",
       "    <tr>\n",
       "      <th>6</th>\n",
       "      <td>Apple</td>\n",
       "      <td>iPhone 13 Mini</td>\n",
       "      <td>Pink</td>\n",
       "      <td>6 GB</td>\n",
       "      <td>512 GB</td>\n",
       "      <td>Yes</td>\n",
       "      <td>NaN</td>\n",
       "      <td>99900</td>\n",
       "      <td>99900</td>\n",
       "      <td>Apple iPhone 13 Mini</td>\n",
       "      <td>0</td>\n",
       "      <td>0.000000</td>\n",
       "    </tr>\n",
       "  </tbody>\n",
       "</table>\n",
       "</div>"
      ],
      "text/plain": [
       "    Brands           Models        Colors Memory Storage Camera  Rating  \\\n",
       "0  SAMSUNG     GALAXY M31S   Mirage Black   8 GB  128 GB    Yes     4.3   \n",
       "4    Apple       iPhone 11          Black    4GB   64 GB    Yes     4.6   \n",
       "6    Apple  iPhone 13 Mini           Pink   6 GB  512 GB    Yes     NaN   \n",
       "\n",
       "   Selling Price  Original Price                 Mobile  Discount  \\\n",
       "0          19330           20999   SAMSUNG GALAXY M31S       1669   \n",
       "4          49900           49900       Apple iPhone 11          0   \n",
       "6          99900           99900  Apple iPhone 13 Mini          0   \n",
       "\n",
       "   discount percentage  \n",
       "0             7.947998  \n",
       "4             0.000000  \n",
       "6             0.000000  "
      ]
     },
     "execution_count": 8,
     "metadata": {},
     "output_type": "execute_result"
    }
   ],
   "source": [
    "import pandas as pd\n",
    "\n",
    "data=pd.read_csv(r'/home/nduatihump/25e---PyData/Sales.csv')\n",
    "data.head()\n",
    "data.iloc[[0, 4, 6]]\n"
   ]
  },
  {
   "cell_type": "code",
   "execution_count": 9,
   "id": "01a45d6a",
   "metadata": {},
   "outputs": [
    {
     "data": {
      "application/vnd.microsoft.datawrangler.viewer.v0+json": {
       "columns": [
        {
         "name": "index",
         "rawType": "int64",
         "type": "integer"
        },
        {
         "name": "Brands",
         "rawType": "object",
         "type": "string"
        },
        {
         "name": "Models",
         "rawType": "object",
         "type": "string"
        },
        {
         "name": "Colors",
         "rawType": "object",
         "type": "string"
        },
        {
         "name": "Memory",
         "rawType": "object",
         "type": "string"
        },
        {
         "name": "Storage",
         "rawType": "object",
         "type": "unknown"
        },
        {
         "name": "Camera",
         "rawType": "object",
         "type": "string"
        },
        {
         "name": "Rating",
         "rawType": "float64",
         "type": "float"
        },
        {
         "name": "Selling Price",
         "rawType": "int64",
         "type": "integer"
        },
        {
         "name": "Original Price",
         "rawType": "int64",
         "type": "integer"
        },
        {
         "name": "Mobile",
         "rawType": "object",
         "type": "string"
        },
        {
         "name": "Discount",
         "rawType": "int64",
         "type": "integer"
        },
        {
         "name": "discount percentage",
         "rawType": "float64",
         "type": "float"
        }
       ],
       "ref": "25d438d6-f730-42db-8b88-834ef1a3bff7",
       "rows": [
        [
         "0",
         "SAMSUNG",
         "GALAXY M31S ",
         "Mirage Black",
         "8 GB",
         "128 GB",
         "Yes",
         "4.3",
         "19330",
         "20999",
         "SAMSUNG GALAXY M31S ",
         "1669",
         "7.947997523691604"
        ],
        [
         "2",
         "realme",
         "C2 ",
         "Diamond Black",
         "2 GB",
         null,
         "Yes",
         "4.4",
         "6999",
         "7999",
         "realme C2 ",
         "1000",
         "12.50156269533692"
        ],
        [
         "4",
         "Apple",
         "iPhone 11 ",
         "Black",
         "4GB",
         "64 GB",
         "Yes",
         "4.6",
         "49900",
         "49900",
         "Apple iPhone 11 ",
         "0",
         "0.0"
        ],
        [
         "6",
         "Apple",
         "iPhone 13 Mini ",
         "Pink",
         "6 GB",
         "512 GB",
         "Yes",
         null,
         "99900",
         "99900",
         "Apple iPhone 13 Mini ",
         "0",
         "0.0"
        ],
        [
         "8",
         "SAMSUNG",
         "Galaxy E5 ",
         "Brown",
         "1.5 GB",
         "16 GB",
         "Yes",
         "4.2",
         "20400",
         "20400",
         "SAMSUNG Galaxy E5 ",
         "0",
         "0.0"
        ]
       ],
       "shape": {
        "columns": 12,
        "rows": 5
       }
      },
      "text/html": [
       "<div>\n",
       "<style scoped>\n",
       "    .dataframe tbody tr th:only-of-type {\n",
       "        vertical-align: middle;\n",
       "    }\n",
       "\n",
       "    .dataframe tbody tr th {\n",
       "        vertical-align: top;\n",
       "    }\n",
       "\n",
       "    .dataframe thead th {\n",
       "        text-align: right;\n",
       "    }\n",
       "</style>\n",
       "<table border=\"1\" class=\"dataframe\">\n",
       "  <thead>\n",
       "    <tr style=\"text-align: right;\">\n",
       "      <th></th>\n",
       "      <th>Brands</th>\n",
       "      <th>Models</th>\n",
       "      <th>Colors</th>\n",
       "      <th>Memory</th>\n",
       "      <th>Storage</th>\n",
       "      <th>Camera</th>\n",
       "      <th>Rating</th>\n",
       "      <th>Selling Price</th>\n",
       "      <th>Original Price</th>\n",
       "      <th>Mobile</th>\n",
       "      <th>Discount</th>\n",
       "      <th>discount percentage</th>\n",
       "    </tr>\n",
       "  </thead>\n",
       "  <tbody>\n",
       "    <tr>\n",
       "      <th>0</th>\n",
       "      <td>SAMSUNG</td>\n",
       "      <td>GALAXY M31S</td>\n",
       "      <td>Mirage Black</td>\n",
       "      <td>8 GB</td>\n",
       "      <td>128 GB</td>\n",
       "      <td>Yes</td>\n",
       "      <td>4.3</td>\n",
       "      <td>19330</td>\n",
       "      <td>20999</td>\n",
       "      <td>SAMSUNG GALAXY M31S</td>\n",
       "      <td>1669</td>\n",
       "      <td>7.947998</td>\n",
       "    </tr>\n",
       "    <tr>\n",
       "      <th>2</th>\n",
       "      <td>realme</td>\n",
       "      <td>C2</td>\n",
       "      <td>Diamond Black</td>\n",
       "      <td>2 GB</td>\n",
       "      <td>NaN</td>\n",
       "      <td>Yes</td>\n",
       "      <td>4.4</td>\n",
       "      <td>6999</td>\n",
       "      <td>7999</td>\n",
       "      <td>realme C2</td>\n",
       "      <td>1000</td>\n",
       "      <td>12.501563</td>\n",
       "    </tr>\n",
       "    <tr>\n",
       "      <th>4</th>\n",
       "      <td>Apple</td>\n",
       "      <td>iPhone 11</td>\n",
       "      <td>Black</td>\n",
       "      <td>4GB</td>\n",
       "      <td>64 GB</td>\n",
       "      <td>Yes</td>\n",
       "      <td>4.6</td>\n",
       "      <td>49900</td>\n",
       "      <td>49900</td>\n",
       "      <td>Apple iPhone 11</td>\n",
       "      <td>0</td>\n",
       "      <td>0.000000</td>\n",
       "    </tr>\n",
       "    <tr>\n",
       "      <th>6</th>\n",
       "      <td>Apple</td>\n",
       "      <td>iPhone 13 Mini</td>\n",
       "      <td>Pink</td>\n",
       "      <td>6 GB</td>\n",
       "      <td>512 GB</td>\n",
       "      <td>Yes</td>\n",
       "      <td>NaN</td>\n",
       "      <td>99900</td>\n",
       "      <td>99900</td>\n",
       "      <td>Apple iPhone 13 Mini</td>\n",
       "      <td>0</td>\n",
       "      <td>0.000000</td>\n",
       "    </tr>\n",
       "    <tr>\n",
       "      <th>8</th>\n",
       "      <td>SAMSUNG</td>\n",
       "      <td>Galaxy E5</td>\n",
       "      <td>Brown</td>\n",
       "      <td>1.5 GB</td>\n",
       "      <td>16 GB</td>\n",
       "      <td>Yes</td>\n",
       "      <td>4.2</td>\n",
       "      <td>20400</td>\n",
       "      <td>20400</td>\n",
       "      <td>SAMSUNG Galaxy E5</td>\n",
       "      <td>0</td>\n",
       "      <td>0.000000</td>\n",
       "    </tr>\n",
       "  </tbody>\n",
       "</table>\n",
       "</div>"
      ],
      "text/plain": [
       "    Brands           Models         Colors  Memory Storage Camera  Rating  \\\n",
       "0  SAMSUNG     GALAXY M31S    Mirage Black    8 GB  128 GB    Yes     4.3   \n",
       "2   realme              C2   Diamond Black    2 GB     NaN    Yes     4.4   \n",
       "4    Apple       iPhone 11           Black     4GB   64 GB    Yes     4.6   \n",
       "6    Apple  iPhone 13 Mini            Pink    6 GB  512 GB    Yes     NaN   \n",
       "8  SAMSUNG       Galaxy E5           Brown  1.5 GB   16 GB    Yes     4.2   \n",
       "\n",
       "   Selling Price  Original Price                 Mobile  Discount  \\\n",
       "0          19330           20999   SAMSUNG GALAXY M31S       1669   \n",
       "2           6999            7999             realme C2       1000   \n",
       "4          49900           49900       Apple iPhone 11          0   \n",
       "6          99900           99900  Apple iPhone 13 Mini          0   \n",
       "8          20400           20400     SAMSUNG Galaxy E5          0   \n",
       "\n",
       "   discount percentage  \n",
       "0             7.947998  \n",
       "2            12.501563  \n",
       "4             0.000000  \n",
       "6             0.000000  \n",
       "8             0.000000  "
      ]
     },
     "execution_count": 9,
     "metadata": {},
     "output_type": "execute_result"
    }
   ],
   "source": [
    "data.iloc[0: 100: 2].head()"
   ]
  },
  {
   "cell_type": "code",
   "execution_count": 11,
   "id": "1bb05fad",
   "metadata": {},
   "outputs": [
    {
     "data": {
      "application/vnd.microsoft.datawrangler.viewer.v0+json": {
       "columns": [
        {
         "name": "index",
         "rawType": "int64",
         "type": "integer"
        },
        {
         "name": "Brands",
         "rawType": "object",
         "type": "string"
        },
        {
         "name": "Colors",
         "rawType": "object",
         "type": "string"
        },
        {
         "name": "Camera",
         "rawType": "object",
         "type": "string"
        }
       ],
       "ref": "33fc7546-49ba-4fc3-aff8-afc02f6d7b20",
       "rows": [
        [
         "0",
         "SAMSUNG",
         "Mirage Black",
         "Yes"
        ],
        [
         "1",
         "Nokia",
         "Steel",
         "Yes"
        ],
        [
         "2",
         "realme",
         "Diamond Black",
         "Yes"
        ],
        [
         "3",
         "Infinix",
         "Ice Blue",
         "Yes"
        ],
        [
         "4",
         "Apple",
         "Black",
         "Yes"
        ]
       ],
       "shape": {
        "columns": 3,
        "rows": 5
       }
      },
      "text/html": [
       "<div>\n",
       "<style scoped>\n",
       "    .dataframe tbody tr th:only-of-type {\n",
       "        vertical-align: middle;\n",
       "    }\n",
       "\n",
       "    .dataframe tbody tr th {\n",
       "        vertical-align: top;\n",
       "    }\n",
       "\n",
       "    .dataframe thead th {\n",
       "        text-align: right;\n",
       "    }\n",
       "</style>\n",
       "<table border=\"1\" class=\"dataframe\">\n",
       "  <thead>\n",
       "    <tr style=\"text-align: right;\">\n",
       "      <th></th>\n",
       "      <th>Brands</th>\n",
       "      <th>Colors</th>\n",
       "      <th>Camera</th>\n",
       "    </tr>\n",
       "  </thead>\n",
       "  <tbody>\n",
       "    <tr>\n",
       "      <th>0</th>\n",
       "      <td>SAMSUNG</td>\n",
       "      <td>Mirage Black</td>\n",
       "      <td>Yes</td>\n",
       "    </tr>\n",
       "    <tr>\n",
       "      <th>1</th>\n",
       "      <td>Nokia</td>\n",
       "      <td>Steel</td>\n",
       "      <td>Yes</td>\n",
       "    </tr>\n",
       "    <tr>\n",
       "      <th>2</th>\n",
       "      <td>realme</td>\n",
       "      <td>Diamond Black</td>\n",
       "      <td>Yes</td>\n",
       "    </tr>\n",
       "    <tr>\n",
       "      <th>3</th>\n",
       "      <td>Infinix</td>\n",
       "      <td>Ice Blue</td>\n",
       "      <td>Yes</td>\n",
       "    </tr>\n",
       "    <tr>\n",
       "      <th>4</th>\n",
       "      <td>Apple</td>\n",
       "      <td>Black</td>\n",
       "      <td>Yes</td>\n",
       "    </tr>\n",
       "  </tbody>\n",
       "</table>\n",
       "</div>"
      ],
      "text/plain": [
       "    Brands         Colors Camera\n",
       "0  SAMSUNG   Mirage Black    Yes\n",
       "1    Nokia          Steel    Yes\n",
       "2   realme  Diamond Black    Yes\n",
       "3  Infinix       Ice Blue    Yes\n",
       "4    Apple          Black    Yes"
      ]
     },
     "execution_count": 11,
     "metadata": {},
     "output_type": "execute_result"
    }
   ],
   "source": [
    "data.iloc[:,[0,2,5]].head()"
   ]
  },
  {
   "cell_type": "code",
   "execution_count": 12,
   "id": "5f2f3d61",
   "metadata": {},
   "outputs": [
    {
     "data": {
      "application/vnd.microsoft.datawrangler.viewer.v0+json": {
       "columns": [
        {
         "name": "index",
         "rawType": "int64",
         "type": "integer"
        },
        {
         "name": "Brands",
         "rawType": "object",
         "type": "string"
        },
        {
         "name": "Colors",
         "rawType": "object",
         "type": "string"
        },
        {
         "name": "Storage",
         "rawType": "object",
         "type": "string"
        },
        {
         "name": "Rating",
         "rawType": "float64",
         "type": "float"
        },
        {
         "name": "Original Price",
         "rawType": "int64",
         "type": "integer"
        },
        {
         "name": "Discount",
         "rawType": "int64",
         "type": "integer"
        }
       ],
       "ref": "cceafb65-9942-4344-818f-383a0704d1c8",
       "rows": [
        [
         "3",
         "Infinix",
         "Ice Blue",
         "64 GB",
         "4.2",
         "12999",
         "0"
        ],
        [
         "4",
         "Apple",
         "Black",
         "64 GB",
         "4.6",
         "49900",
         "0"
        ],
        [
         "5",
         "GIONEE",
         "Black",
         "16 MB",
         "4.0",
         "2199",
         "0"
        ]
       ],
       "shape": {
        "columns": 6,
        "rows": 3
       }
      },
      "text/html": [
       "<div>\n",
       "<style scoped>\n",
       "    .dataframe tbody tr th:only-of-type {\n",
       "        vertical-align: middle;\n",
       "    }\n",
       "\n",
       "    .dataframe tbody tr th {\n",
       "        vertical-align: top;\n",
       "    }\n",
       "\n",
       "    .dataframe thead th {\n",
       "        text-align: right;\n",
       "    }\n",
       "</style>\n",
       "<table border=\"1\" class=\"dataframe\">\n",
       "  <thead>\n",
       "    <tr style=\"text-align: right;\">\n",
       "      <th></th>\n",
       "      <th>Brands</th>\n",
       "      <th>Colors</th>\n",
       "      <th>Storage</th>\n",
       "      <th>Rating</th>\n",
       "      <th>Original Price</th>\n",
       "      <th>Discount</th>\n",
       "    </tr>\n",
       "  </thead>\n",
       "  <tbody>\n",
       "    <tr>\n",
       "      <th>3</th>\n",
       "      <td>Infinix</td>\n",
       "      <td>Ice Blue</td>\n",
       "      <td>64 GB</td>\n",
       "      <td>4.2</td>\n",
       "      <td>12999</td>\n",
       "      <td>0</td>\n",
       "    </tr>\n",
       "    <tr>\n",
       "      <th>4</th>\n",
       "      <td>Apple</td>\n",
       "      <td>Black</td>\n",
       "      <td>64 GB</td>\n",
       "      <td>4.6</td>\n",
       "      <td>49900</td>\n",
       "      <td>0</td>\n",
       "    </tr>\n",
       "    <tr>\n",
       "      <th>5</th>\n",
       "      <td>GIONEE</td>\n",
       "      <td>Black</td>\n",
       "      <td>16 MB</td>\n",
       "      <td>4.0</td>\n",
       "      <td>2199</td>\n",
       "      <td>0</td>\n",
       "    </tr>\n",
       "  </tbody>\n",
       "</table>\n",
       "</div>"
      ],
      "text/plain": [
       "    Brands    Colors Storage  Rating  Original Price  Discount\n",
       "3  Infinix  Ice Blue   64 GB     4.2           12999         0\n",
       "4    Apple     Black   64 GB     4.6           49900         0\n",
       "5   GIONEE     Black   16 MB     4.0            2199         0"
      ]
     },
     "execution_count": 12,
     "metadata": {},
     "output_type": "execute_result"
    }
   ],
   "source": [
    "data.iloc[3:6,::2]"
   ]
  },
  {
   "cell_type": "code",
   "execution_count": 14,
   "id": "4adcfced",
   "metadata": {},
   "outputs": [
    {
     "data": {
      "application/vnd.microsoft.datawrangler.viewer.v0+json": {
       "columns": [
        {
         "name": "index",
         "rawType": "object",
         "type": "string"
        },
        {
         "name": "Brands",
         "rawType": "object",
         "type": "string"
        },
        {
         "name": "Models",
         "rawType": "object",
         "type": "string"
        },
        {
         "name": "Colors",
         "rawType": "object",
         "type": "string"
        },
        {
         "name": "Memory",
         "rawType": "object",
         "type": "string"
        },
        {
         "name": "Storage",
         "rawType": "object",
         "type": "unknown"
        },
        {
         "name": "Camera",
         "rawType": "object",
         "type": "string"
        },
        {
         "name": "Rating",
         "rawType": "float64",
         "type": "float"
        },
        {
         "name": "Selling Price",
         "rawType": "int64",
         "type": "integer"
        },
        {
         "name": "Original Price",
         "rawType": "int64",
         "type": "integer"
        },
        {
         "name": "Mobile",
         "rawType": "object",
         "type": "string"
        },
        {
         "name": "Discount",
         "rawType": "int64",
         "type": "integer"
        },
        {
         "name": "discount percentage",
         "rawType": "float64",
         "type": "float"
        }
       ],
       "ref": "d138bd22-d36c-42b8-adf9-eb9c2acc7a46",
       "rows": [
        [
         "A",
         "SAMSUNG",
         "GALAXY M31S ",
         "Mirage Black",
         "8 GB",
         "128 GB",
         "Yes",
         "4.3",
         "19330",
         "20999",
         "SAMSUNG GALAXY M31S ",
         "1669",
         "7.947997523691604"
        ],
        [
         "B",
         "Nokia",
         "3.2",
         "Steel",
         "2 GB",
         "16 GB",
         "Yes",
         "3.8",
         "10199",
         "10199",
         "Nokia 3.2",
         "0",
         "0.0"
        ],
        [
         "C",
         "realme",
         "C2 ",
         "Diamond Black",
         "2 GB",
         null,
         "Yes",
         "4.4",
         "6999",
         "7999",
         "realme C2 ",
         "1000",
         "12.50156269533692"
        ],
        [
         "D",
         "Infinix",
         "Note 5",
         "Ice Blue",
         "4 GB",
         "64 GB",
         "Yes",
         "4.2",
         "12999",
         "12999",
         "Infinix Note 5",
         "0",
         "0.0"
        ],
        [
         "E",
         "Apple",
         "iPhone 11 ",
         "Black",
         "4GB",
         "64 GB",
         "Yes",
         "4.6",
         "49900",
         "49900",
         "Apple iPhone 11 ",
         "0",
         "0.0"
        ]
       ],
       "shape": {
        "columns": 12,
        "rows": 5
       }
      },
      "text/html": [
       "<div>\n",
       "<style scoped>\n",
       "    .dataframe tbody tr th:only-of-type {\n",
       "        vertical-align: middle;\n",
       "    }\n",
       "\n",
       "    .dataframe tbody tr th {\n",
       "        vertical-align: top;\n",
       "    }\n",
       "\n",
       "    .dataframe thead th {\n",
       "        text-align: right;\n",
       "    }\n",
       "</style>\n",
       "<table border=\"1\" class=\"dataframe\">\n",
       "  <thead>\n",
       "    <tr style=\"text-align: right;\">\n",
       "      <th></th>\n",
       "      <th>Brands</th>\n",
       "      <th>Models</th>\n",
       "      <th>Colors</th>\n",
       "      <th>Memory</th>\n",
       "      <th>Storage</th>\n",
       "      <th>Camera</th>\n",
       "      <th>Rating</th>\n",
       "      <th>Selling Price</th>\n",
       "      <th>Original Price</th>\n",
       "      <th>Mobile</th>\n",
       "      <th>Discount</th>\n",
       "      <th>discount percentage</th>\n",
       "    </tr>\n",
       "  </thead>\n",
       "  <tbody>\n",
       "    <tr>\n",
       "      <th>A</th>\n",
       "      <td>SAMSUNG</td>\n",
       "      <td>GALAXY M31S</td>\n",
       "      <td>Mirage Black</td>\n",
       "      <td>8 GB</td>\n",
       "      <td>128 GB</td>\n",
       "      <td>Yes</td>\n",
       "      <td>4.3</td>\n",
       "      <td>19330</td>\n",
       "      <td>20999</td>\n",
       "      <td>SAMSUNG GALAXY M31S</td>\n",
       "      <td>1669</td>\n",
       "      <td>7.947998</td>\n",
       "    </tr>\n",
       "    <tr>\n",
       "      <th>B</th>\n",
       "      <td>Nokia</td>\n",
       "      <td>3.2</td>\n",
       "      <td>Steel</td>\n",
       "      <td>2 GB</td>\n",
       "      <td>16 GB</td>\n",
       "      <td>Yes</td>\n",
       "      <td>3.8</td>\n",
       "      <td>10199</td>\n",
       "      <td>10199</td>\n",
       "      <td>Nokia 3.2</td>\n",
       "      <td>0</td>\n",
       "      <td>0.000000</td>\n",
       "    </tr>\n",
       "    <tr>\n",
       "      <th>C</th>\n",
       "      <td>realme</td>\n",
       "      <td>C2</td>\n",
       "      <td>Diamond Black</td>\n",
       "      <td>2 GB</td>\n",
       "      <td>NaN</td>\n",
       "      <td>Yes</td>\n",
       "      <td>4.4</td>\n",
       "      <td>6999</td>\n",
       "      <td>7999</td>\n",
       "      <td>realme C2</td>\n",
       "      <td>1000</td>\n",
       "      <td>12.501563</td>\n",
       "    </tr>\n",
       "    <tr>\n",
       "      <th>D</th>\n",
       "      <td>Infinix</td>\n",
       "      <td>Note 5</td>\n",
       "      <td>Ice Blue</td>\n",
       "      <td>4 GB</td>\n",
       "      <td>64 GB</td>\n",
       "      <td>Yes</td>\n",
       "      <td>4.2</td>\n",
       "      <td>12999</td>\n",
       "      <td>12999</td>\n",
       "      <td>Infinix Note 5</td>\n",
       "      <td>0</td>\n",
       "      <td>0.000000</td>\n",
       "    </tr>\n",
       "    <tr>\n",
       "      <th>E</th>\n",
       "      <td>Apple</td>\n",
       "      <td>iPhone 11</td>\n",
       "      <td>Black</td>\n",
       "      <td>4GB</td>\n",
       "      <td>64 GB</td>\n",
       "      <td>Yes</td>\n",
       "      <td>4.6</td>\n",
       "      <td>49900</td>\n",
       "      <td>49900</td>\n",
       "      <td>Apple iPhone 11</td>\n",
       "      <td>0</td>\n",
       "      <td>0.000000</td>\n",
       "    </tr>\n",
       "  </tbody>\n",
       "</table>\n",
       "</div>"
      ],
      "text/plain": [
       "    Brands        Models         Colors Memory Storage Camera  Rating  \\\n",
       "A  SAMSUNG  GALAXY M31S    Mirage Black   8 GB  128 GB    Yes     4.3   \n",
       "B    Nokia           3.2          Steel   2 GB   16 GB    Yes     3.8   \n",
       "C   realme           C2   Diamond Black   2 GB     NaN    Yes     4.4   \n",
       "D  Infinix        Note 5       Ice Blue   4 GB   64 GB    Yes     4.2   \n",
       "E    Apple    iPhone 11           Black    4GB   64 GB    Yes     4.6   \n",
       "\n",
       "   Selling Price  Original Price                Mobile  Discount  \\\n",
       "A          19330           20999  SAMSUNG GALAXY M31S       1669   \n",
       "B          10199           10199             Nokia 3.2         0   \n",
       "C           6999            7999            realme C2       1000   \n",
       "D          12999           12999        Infinix Note 5         0   \n",
       "E          49900           49900      Apple iPhone 11          0   \n",
       "\n",
       "   discount percentage  \n",
       "A             7.947998  \n",
       "B             0.000000  \n",
       "C            12.501563  \n",
       "D             0.000000  \n",
       "E             0.000000  "
      ]
     },
     "execution_count": 14,
     "metadata": {},
     "output_type": "execute_result"
    }
   ],
   "source": [
    "import string\n",
    "letters = list(string.ascii_uppercase)\n",
    "\n",
    "df = data.iloc[0:26].copy()\n",
    "df.index = letters\n",
    "df.head()\n"
   ]
  },
  {
   "cell_type": "code",
   "execution_count": 15,
   "id": "e27a7515",
   "metadata": {},
   "outputs": [
    {
     "data": {
      "application/vnd.microsoft.datawrangler.viewer.v0+json": {
       "columns": [
        {
         "name": "index",
         "rawType": "object",
         "type": "string"
        },
        {
         "name": "A",
         "rawType": "object",
         "type": "unknown"
        }
       ],
       "ref": "a13d327f-672c-4037-8977-442cbc419930",
       "rows": [
        [
         "Brands",
         "SAMSUNG"
        ],
        [
         "Models",
         "GALAXY M31S "
        ],
        [
         "Colors",
         "Mirage Black"
        ],
        [
         "Memory",
         "8 GB"
        ],
        [
         "Storage",
         "128 GB"
        ],
        [
         "Camera",
         "Yes"
        ],
        [
         "Rating",
         "4.3"
        ],
        [
         "Selling Price",
         "19330"
        ],
        [
         "Original Price",
         "20999"
        ],
        [
         "Mobile",
         "SAMSUNG GALAXY M31S "
        ],
        [
         "Discount",
         "1669"
        ],
        [
         "discount percentage",
         "7.947997523691604"
        ]
       ],
       "shape": {
        "columns": 1,
        "rows": 12
       }
      },
      "text/plain": [
       "Brands                              SAMSUNG\n",
       "Models                         GALAXY M31S \n",
       "Colors                         Mirage Black\n",
       "Memory                                 8 GB\n",
       "Storage                              128 GB\n",
       "Camera                                  Yes\n",
       "Rating                                  4.3\n",
       "Selling Price                         19330\n",
       "Original Price                        20999\n",
       "Mobile                 SAMSUNG GALAXY M31S \n",
       "Discount                               1669\n",
       "discount percentage                7.947998\n",
       "Name: A, dtype: object"
      ]
     },
     "execution_count": 15,
     "metadata": {},
     "output_type": "execute_result"
    }
   ],
   "source": [
    "df.loc['A']"
   ]
  },
  {
   "cell_type": "code",
   "execution_count": 17,
   "id": "b16d21fb",
   "metadata": {},
   "outputs": [
    {
     "data": {
      "application/vnd.microsoft.datawrangler.viewer.v0+json": {
       "columns": [
        {
         "name": "index",
         "rawType": "object",
         "type": "string"
        },
        {
         "name": "Brands",
         "rawType": "object",
         "type": "string"
        },
        {
         "name": "Models",
         "rawType": "object",
         "type": "string"
        },
        {
         "name": "Colors",
         "rawType": "object",
         "type": "string"
        },
        {
         "name": "Memory",
         "rawType": "object",
         "type": "string"
        },
        {
         "name": "Storage",
         "rawType": "object",
         "type": "unknown"
        },
        {
         "name": "Camera",
         "rawType": "object",
         "type": "string"
        },
        {
         "name": "Rating",
         "rawType": "float64",
         "type": "float"
        },
        {
         "name": "Selling Price",
         "rawType": "int64",
         "type": "integer"
        },
        {
         "name": "Original Price",
         "rawType": "int64",
         "type": "integer"
        },
        {
         "name": "Mobile",
         "rawType": "object",
         "type": "string"
        },
        {
         "name": "Discount",
         "rawType": "int64",
         "type": "integer"
        },
        {
         "name": "discount percentage",
         "rawType": "float64",
         "type": "float"
        }
       ],
       "ref": "e635cedd-b7ca-4e58-b866-3622bbfa896b",
       "rows": [
        [
         "A",
         "SAMSUNG",
         "GALAXY M31S ",
         "Mirage Black",
         "8 GB",
         "128 GB",
         "Yes",
         "4.3",
         "19330",
         "20999",
         "SAMSUNG GALAXY M31S ",
         "1669",
         "7.947997523691604"
        ],
        [
         "B",
         "Nokia",
         "3.2",
         "Steel",
         "2 GB",
         "16 GB",
         "Yes",
         "3.8",
         "10199",
         "10199",
         "Nokia 3.2",
         "0",
         "0.0"
        ],
        [
         "C",
         "realme",
         "C2 ",
         "Diamond Black",
         "2 GB",
         null,
         "Yes",
         "4.4",
         "6999",
         "7999",
         "realme C2 ",
         "1000",
         "12.50156269533692"
        ],
        [
         "D",
         "Infinix",
         "Note 5",
         "Ice Blue",
         "4 GB",
         "64 GB",
         "Yes",
         "4.2",
         "12999",
         "12999",
         "Infinix Note 5",
         "0",
         "0.0"
        ],
        [
         "E",
         "Apple",
         "iPhone 11 ",
         "Black",
         "4GB",
         "64 GB",
         "Yes",
         "4.6",
         "49900",
         "49900",
         "Apple iPhone 11 ",
         "0",
         "0.0"
        ],
        [
         "F",
         "GIONEE",
         "L800",
         "Black",
         "8 MB",
         "16 MB",
         "Yes",
         "4.0",
         "2199",
         "2199",
         "GIONEE L800",
         "0",
         "0.0"
        ],
        [
         "G",
         "Apple",
         "iPhone 13 Mini ",
         "Pink",
         "6 GB",
         "512 GB",
         "Yes",
         null,
         "99900",
         "99900",
         "Apple iPhone 13 Mini ",
         "0",
         "0.0"
        ],
        [
         "H",
         "Apple",
         "iPhone XR ",
         "Coral",
         "3 GB",
         "64 GB",
         "Yes",
         "4.6",
         "42999",
         "47900",
         "Apple iPhone XR ",
         "4901",
         "10.231732776617951"
        ]
       ],
       "shape": {
        "columns": 12,
        "rows": 8
       }
      },
      "text/html": [
       "<div>\n",
       "<style scoped>\n",
       "    .dataframe tbody tr th:only-of-type {\n",
       "        vertical-align: middle;\n",
       "    }\n",
       "\n",
       "    .dataframe tbody tr th {\n",
       "        vertical-align: top;\n",
       "    }\n",
       "\n",
       "    .dataframe thead th {\n",
       "        text-align: right;\n",
       "    }\n",
       "</style>\n",
       "<table border=\"1\" class=\"dataframe\">\n",
       "  <thead>\n",
       "    <tr style=\"text-align: right;\">\n",
       "      <th></th>\n",
       "      <th>Brands</th>\n",
       "      <th>Models</th>\n",
       "      <th>Colors</th>\n",
       "      <th>Memory</th>\n",
       "      <th>Storage</th>\n",
       "      <th>Camera</th>\n",
       "      <th>Rating</th>\n",
       "      <th>Selling Price</th>\n",
       "      <th>Original Price</th>\n",
       "      <th>Mobile</th>\n",
       "      <th>Discount</th>\n",
       "      <th>discount percentage</th>\n",
       "    </tr>\n",
       "  </thead>\n",
       "  <tbody>\n",
       "    <tr>\n",
       "      <th>A</th>\n",
       "      <td>SAMSUNG</td>\n",
       "      <td>GALAXY M31S</td>\n",
       "      <td>Mirage Black</td>\n",
       "      <td>8 GB</td>\n",
       "      <td>128 GB</td>\n",
       "      <td>Yes</td>\n",
       "      <td>4.3</td>\n",
       "      <td>19330</td>\n",
       "      <td>20999</td>\n",
       "      <td>SAMSUNG GALAXY M31S</td>\n",
       "      <td>1669</td>\n",
       "      <td>7.947998</td>\n",
       "    </tr>\n",
       "    <tr>\n",
       "      <th>B</th>\n",
       "      <td>Nokia</td>\n",
       "      <td>3.2</td>\n",
       "      <td>Steel</td>\n",
       "      <td>2 GB</td>\n",
       "      <td>16 GB</td>\n",
       "      <td>Yes</td>\n",
       "      <td>3.8</td>\n",
       "      <td>10199</td>\n",
       "      <td>10199</td>\n",
       "      <td>Nokia 3.2</td>\n",
       "      <td>0</td>\n",
       "      <td>0.000000</td>\n",
       "    </tr>\n",
       "    <tr>\n",
       "      <th>C</th>\n",
       "      <td>realme</td>\n",
       "      <td>C2</td>\n",
       "      <td>Diamond Black</td>\n",
       "      <td>2 GB</td>\n",
       "      <td>NaN</td>\n",
       "      <td>Yes</td>\n",
       "      <td>4.4</td>\n",
       "      <td>6999</td>\n",
       "      <td>7999</td>\n",
       "      <td>realme C2</td>\n",
       "      <td>1000</td>\n",
       "      <td>12.501563</td>\n",
       "    </tr>\n",
       "    <tr>\n",
       "      <th>D</th>\n",
       "      <td>Infinix</td>\n",
       "      <td>Note 5</td>\n",
       "      <td>Ice Blue</td>\n",
       "      <td>4 GB</td>\n",
       "      <td>64 GB</td>\n",
       "      <td>Yes</td>\n",
       "      <td>4.2</td>\n",
       "      <td>12999</td>\n",
       "      <td>12999</td>\n",
       "      <td>Infinix Note 5</td>\n",
       "      <td>0</td>\n",
       "      <td>0.000000</td>\n",
       "    </tr>\n",
       "    <tr>\n",
       "      <th>E</th>\n",
       "      <td>Apple</td>\n",
       "      <td>iPhone 11</td>\n",
       "      <td>Black</td>\n",
       "      <td>4GB</td>\n",
       "      <td>64 GB</td>\n",
       "      <td>Yes</td>\n",
       "      <td>4.6</td>\n",
       "      <td>49900</td>\n",
       "      <td>49900</td>\n",
       "      <td>Apple iPhone 11</td>\n",
       "      <td>0</td>\n",
       "      <td>0.000000</td>\n",
       "    </tr>\n",
       "    <tr>\n",
       "      <th>F</th>\n",
       "      <td>GIONEE</td>\n",
       "      <td>L800</td>\n",
       "      <td>Black</td>\n",
       "      <td>8 MB</td>\n",
       "      <td>16 MB</td>\n",
       "      <td>Yes</td>\n",
       "      <td>4.0</td>\n",
       "      <td>2199</td>\n",
       "      <td>2199</td>\n",
       "      <td>GIONEE L800</td>\n",
       "      <td>0</td>\n",
       "      <td>0.000000</td>\n",
       "    </tr>\n",
       "    <tr>\n",
       "      <th>G</th>\n",
       "      <td>Apple</td>\n",
       "      <td>iPhone 13 Mini</td>\n",
       "      <td>Pink</td>\n",
       "      <td>6 GB</td>\n",
       "      <td>512 GB</td>\n",
       "      <td>Yes</td>\n",
       "      <td>NaN</td>\n",
       "      <td>99900</td>\n",
       "      <td>99900</td>\n",
       "      <td>Apple iPhone 13 Mini</td>\n",
       "      <td>0</td>\n",
       "      <td>0.000000</td>\n",
       "    </tr>\n",
       "    <tr>\n",
       "      <th>H</th>\n",
       "      <td>Apple</td>\n",
       "      <td>iPhone XR</td>\n",
       "      <td>Coral</td>\n",
       "      <td>3 GB</td>\n",
       "      <td>64 GB</td>\n",
       "      <td>Yes</td>\n",
       "      <td>4.6</td>\n",
       "      <td>42999</td>\n",
       "      <td>47900</td>\n",
       "      <td>Apple iPhone XR</td>\n",
       "      <td>4901</td>\n",
       "      <td>10.231733</td>\n",
       "    </tr>\n",
       "  </tbody>\n",
       "</table>\n",
       "</div>"
      ],
      "text/plain": [
       "    Brands           Models         Colors Memory Storage Camera  Rating  \\\n",
       "A  SAMSUNG     GALAXY M31S    Mirage Black   8 GB  128 GB    Yes     4.3   \n",
       "B    Nokia              3.2          Steel   2 GB   16 GB    Yes     3.8   \n",
       "C   realme              C2   Diamond Black   2 GB     NaN    Yes     4.4   \n",
       "D  Infinix           Note 5       Ice Blue   4 GB   64 GB    Yes     4.2   \n",
       "E    Apple       iPhone 11           Black    4GB   64 GB    Yes     4.6   \n",
       "F   GIONEE             L800          Black   8 MB   16 MB    Yes     4.0   \n",
       "G    Apple  iPhone 13 Mini            Pink   6 GB  512 GB    Yes     NaN   \n",
       "H    Apple       iPhone XR           Coral   3 GB   64 GB    Yes     4.6   \n",
       "\n",
       "   Selling Price  Original Price                 Mobile  Discount  \\\n",
       "A          19330           20999   SAMSUNG GALAXY M31S       1669   \n",
       "B          10199           10199              Nokia 3.2         0   \n",
       "C           6999            7999             realme C2       1000   \n",
       "D          12999           12999         Infinix Note 5         0   \n",
       "E          49900           49900       Apple iPhone 11          0   \n",
       "F           2199            2199            GIONEE L800         0   \n",
       "G          99900           99900  Apple iPhone 13 Mini          0   \n",
       "H          42999           47900       Apple iPhone XR       4901   \n",
       "\n",
       "   discount percentage  \n",
       "A             7.947998  \n",
       "B             0.000000  \n",
       "C            12.501563  \n",
       "D             0.000000  \n",
       "E             0.000000  \n",
       "F             0.000000  \n",
       "G             0.000000  \n",
       "H            10.231733  "
      ]
     },
     "execution_count": 17,
     "metadata": {},
     "output_type": "execute_result"
    }
   ],
   "source": [
    "df.loc['A':'H']"
   ]
  },
  {
   "cell_type": "code",
   "execution_count": 19,
   "id": "d7ffa193",
   "metadata": {},
   "outputs": [
    {
     "data": {
      "application/vnd.microsoft.datawrangler.viewer.v0+json": {
       "columns": [
        {
         "name": "index",
         "rawType": "object",
         "type": "string"
        },
        {
         "name": "Brands",
         "rawType": "object",
         "type": "string"
        },
        {
         "name": "Memory",
         "rawType": "object",
         "type": "string"
        },
        {
         "name": "Storage",
         "rawType": "object",
         "type": "unknown"
        }
       ],
       "ref": "5320243b-7e04-407f-917e-d660919bb281",
       "rows": [
        [
         "A",
         "SAMSUNG",
         "8 GB",
         "128 GB"
        ],
        [
         "B",
         "Nokia",
         "2 GB",
         "16 GB"
        ],
        [
         "C",
         "realme",
         "2 GB",
         null
        ],
        [
         "D",
         "Infinix",
         "4 GB",
         "64 GB"
        ],
        [
         "E",
         "Apple",
         "4GB",
         "64 GB"
        ]
       ],
       "shape": {
        "columns": 3,
        "rows": 5
       }
      },
      "text/html": [
       "<div>\n",
       "<style scoped>\n",
       "    .dataframe tbody tr th:only-of-type {\n",
       "        vertical-align: middle;\n",
       "    }\n",
       "\n",
       "    .dataframe tbody tr th {\n",
       "        vertical-align: top;\n",
       "    }\n",
       "\n",
       "    .dataframe thead th {\n",
       "        text-align: right;\n",
       "    }\n",
       "</style>\n",
       "<table border=\"1\" class=\"dataframe\">\n",
       "  <thead>\n",
       "    <tr style=\"text-align: right;\">\n",
       "      <th></th>\n",
       "      <th>Brands</th>\n",
       "      <th>Memory</th>\n",
       "      <th>Storage</th>\n",
       "    </tr>\n",
       "  </thead>\n",
       "  <tbody>\n",
       "    <tr>\n",
       "      <th>A</th>\n",
       "      <td>SAMSUNG</td>\n",
       "      <td>8 GB</td>\n",
       "      <td>128 GB</td>\n",
       "    </tr>\n",
       "    <tr>\n",
       "      <th>B</th>\n",
       "      <td>Nokia</td>\n",
       "      <td>2 GB</td>\n",
       "      <td>16 GB</td>\n",
       "    </tr>\n",
       "    <tr>\n",
       "      <th>C</th>\n",
       "      <td>realme</td>\n",
       "      <td>2 GB</td>\n",
       "      <td>NaN</td>\n",
       "    </tr>\n",
       "    <tr>\n",
       "      <th>D</th>\n",
       "      <td>Infinix</td>\n",
       "      <td>4 GB</td>\n",
       "      <td>64 GB</td>\n",
       "    </tr>\n",
       "    <tr>\n",
       "      <th>E</th>\n",
       "      <td>Apple</td>\n",
       "      <td>4GB</td>\n",
       "      <td>64 GB</td>\n",
       "    </tr>\n",
       "  </tbody>\n",
       "</table>\n",
       "</div>"
      ],
      "text/plain": [
       "    Brands Memory Storage\n",
       "A  SAMSUNG   8 GB  128 GB\n",
       "B    Nokia   2 GB   16 GB\n",
       "C   realme   2 GB     NaN\n",
       "D  Infinix   4 GB   64 GB\n",
       "E    Apple    4GB   64 GB"
      ]
     },
     "execution_count": 19,
     "metadata": {},
     "output_type": "execute_result"
    }
   ],
   "source": [
    "df.loc[:, ['Brands','Memory','Storage']].head()"
   ]
  },
  {
   "cell_type": "code",
   "execution_count": 20,
   "id": "6c6b1a27",
   "metadata": {},
   "outputs": [
    {
     "data": {
      "application/vnd.microsoft.datawrangler.viewer.v0+json": {
       "columns": [
        {
         "name": "index",
         "rawType": "object",
         "type": "string"
        },
        {
         "name": "Brands",
         "rawType": "object",
         "type": "string"
        },
        {
         "name": "Models",
         "rawType": "object",
         "type": "string"
        },
        {
         "name": "Colors",
         "rawType": "object",
         "type": "string"
        },
        {
         "name": "Memory",
         "rawType": "object",
         "type": "string"
        },
        {
         "name": "Storage",
         "rawType": "object",
         "type": "unknown"
        }
       ],
       "ref": "119c7759-361c-4456-ba31-d93bd1721b0d",
       "rows": [
        [
         "A",
         "SAMSUNG",
         "GALAXY M31S ",
         "Mirage Black",
         "8 GB",
         "128 GB"
        ],
        [
         "B",
         "Nokia",
         "3.2",
         "Steel",
         "2 GB",
         "16 GB"
        ],
        [
         "C",
         "realme",
         "C2 ",
         "Diamond Black",
         "2 GB",
         null
        ],
        [
         "D",
         "Infinix",
         "Note 5",
         "Ice Blue",
         "4 GB",
         "64 GB"
        ],
        [
         "E",
         "Apple",
         "iPhone 11 ",
         "Black",
         "4GB",
         "64 GB"
        ],
        [
         "F",
         "GIONEE",
         "L800",
         "Black",
         "8 MB",
         "16 MB"
        ],
        [
         "G",
         "Apple",
         "iPhone 13 Mini ",
         "Pink",
         "6 GB",
         "512 GB"
        ],
        [
         "H",
         "Apple",
         "iPhone XR ",
         "Coral",
         "3 GB",
         "64 GB"
        ]
       ],
       "shape": {
        "columns": 5,
        "rows": 8
       }
      },
      "text/html": [
       "<div>\n",
       "<style scoped>\n",
       "    .dataframe tbody tr th:only-of-type {\n",
       "        vertical-align: middle;\n",
       "    }\n",
       "\n",
       "    .dataframe tbody tr th {\n",
       "        vertical-align: top;\n",
       "    }\n",
       "\n",
       "    .dataframe thead th {\n",
       "        text-align: right;\n",
       "    }\n",
       "</style>\n",
       "<table border=\"1\" class=\"dataframe\">\n",
       "  <thead>\n",
       "    <tr style=\"text-align: right;\">\n",
       "      <th></th>\n",
       "      <th>Brands</th>\n",
       "      <th>Models</th>\n",
       "      <th>Colors</th>\n",
       "      <th>Memory</th>\n",
       "      <th>Storage</th>\n",
       "    </tr>\n",
       "  </thead>\n",
       "  <tbody>\n",
       "    <tr>\n",
       "      <th>A</th>\n",
       "      <td>SAMSUNG</td>\n",
       "      <td>GALAXY M31S</td>\n",
       "      <td>Mirage Black</td>\n",
       "      <td>8 GB</td>\n",
       "      <td>128 GB</td>\n",
       "    </tr>\n",
       "    <tr>\n",
       "      <th>B</th>\n",
       "      <td>Nokia</td>\n",
       "      <td>3.2</td>\n",
       "      <td>Steel</td>\n",
       "      <td>2 GB</td>\n",
       "      <td>16 GB</td>\n",
       "    </tr>\n",
       "    <tr>\n",
       "      <th>C</th>\n",
       "      <td>realme</td>\n",
       "      <td>C2</td>\n",
       "      <td>Diamond Black</td>\n",
       "      <td>2 GB</td>\n",
       "      <td>NaN</td>\n",
       "    </tr>\n",
       "    <tr>\n",
       "      <th>D</th>\n",
       "      <td>Infinix</td>\n",
       "      <td>Note 5</td>\n",
       "      <td>Ice Blue</td>\n",
       "      <td>4 GB</td>\n",
       "      <td>64 GB</td>\n",
       "    </tr>\n",
       "    <tr>\n",
       "      <th>E</th>\n",
       "      <td>Apple</td>\n",
       "      <td>iPhone 11</td>\n",
       "      <td>Black</td>\n",
       "      <td>4GB</td>\n",
       "      <td>64 GB</td>\n",
       "    </tr>\n",
       "    <tr>\n",
       "      <th>F</th>\n",
       "      <td>GIONEE</td>\n",
       "      <td>L800</td>\n",
       "      <td>Black</td>\n",
       "      <td>8 MB</td>\n",
       "      <td>16 MB</td>\n",
       "    </tr>\n",
       "    <tr>\n",
       "      <th>G</th>\n",
       "      <td>Apple</td>\n",
       "      <td>iPhone 13 Mini</td>\n",
       "      <td>Pink</td>\n",
       "      <td>6 GB</td>\n",
       "      <td>512 GB</td>\n",
       "    </tr>\n",
       "    <tr>\n",
       "      <th>H</th>\n",
       "      <td>Apple</td>\n",
       "      <td>iPhone XR</td>\n",
       "      <td>Coral</td>\n",
       "      <td>3 GB</td>\n",
       "      <td>64 GB</td>\n",
       "    </tr>\n",
       "  </tbody>\n",
       "</table>\n",
       "</div>"
      ],
      "text/plain": [
       "    Brands           Models         Colors Memory Storage\n",
       "A  SAMSUNG     GALAXY M31S    Mirage Black   8 GB  128 GB\n",
       "B    Nokia              3.2          Steel   2 GB   16 GB\n",
       "C   realme              C2   Diamond Black   2 GB     NaN\n",
       "D  Infinix           Note 5       Ice Blue   4 GB   64 GB\n",
       "E    Apple       iPhone 11           Black    4GB   64 GB\n",
       "F   GIONEE             L800          Black   8 MB   16 MB\n",
       "G    Apple  iPhone 13 Mini            Pink   6 GB  512 GB\n",
       "H    Apple       iPhone XR           Coral   3 GB   64 GB"
      ]
     },
     "execution_count": 20,
     "metadata": {},
     "output_type": "execute_result"
    }
   ],
   "source": [
    "df.loc['A':'H','Brands':'Storage']"
   ]
  },
  {
   "cell_type": "code",
   "execution_count": 21,
   "id": "4eda5dba",
   "metadata": {},
   "outputs": [
    {
     "data": {
      "application/vnd.microsoft.datawrangler.viewer.v0+json": {
       "columns": [
        {
         "name": "index",
         "rawType": "object",
         "type": "string"
        },
        {
         "name": "Brands",
         "rawType": "object",
         "type": "string"
        },
        {
         "name": "Models",
         "rawType": "object",
         "type": "string"
        },
        {
         "name": "Colors",
         "rawType": "object",
         "type": "string"
        },
        {
         "name": "Memory",
         "rawType": "object",
         "type": "string"
        },
        {
         "name": "Storage",
         "rawType": "object",
         "type": "string"
        },
        {
         "name": "Camera",
         "rawType": "object",
         "type": "string"
        },
        {
         "name": "Rating",
         "rawType": "float64",
         "type": "float"
        },
        {
         "name": "Selling Price",
         "rawType": "int64",
         "type": "integer"
        },
        {
         "name": "Original Price",
         "rawType": "int64",
         "type": "integer"
        },
        {
         "name": "Mobile",
         "rawType": "object",
         "type": "string"
        },
        {
         "name": "Discount",
         "rawType": "int64",
         "type": "integer"
        },
        {
         "name": "discount percentage",
         "rawType": "float64",
         "type": "float"
        }
       ],
       "ref": "0ed41266-2672-4b2b-83f3-19427672fcba",
       "rows": [
        [
         "A",
         "SAMSUNG",
         "GALAXY M31S ",
         "Mirage Black",
         "8 GB",
         "128 GB",
         "Yes",
         "4.3",
         "19330",
         "20999",
         "SAMSUNG GALAXY M31S ",
         "1669",
         "7.947997523691604"
        ],
        [
         "I",
         "SAMSUNG",
         "Galaxy E5 ",
         "Brown",
         "1.5 GB",
         "16 GB",
         "Yes",
         "4.2",
         "20400",
         "20400",
         "SAMSUNG Galaxy E5 ",
         "0",
         "0.0"
        ],
        [
         "K",
         "SAMSUNG",
         "Galaxy A12 ",
         "Black",
         "4 GB",
         "64 GB",
         "Yes",
         "4.2",
         "11989",
         "11989",
         "SAMSUNG Galaxy A12 ",
         "0",
         "0.0"
        ],
        [
         "R",
         "SAMSUNG",
         "Galaxy J2 Core ",
         "Gold",
         "1 GB",
         "16 GB",
         "Yes",
         "4.2",
         "6999",
         "6999",
         "SAMSUNG Galaxy J2 Core ",
         "0",
         "0.0"
        ]
       ],
       "shape": {
        "columns": 12,
        "rows": 4
       }
      },
      "text/html": [
       "<div>\n",
       "<style scoped>\n",
       "    .dataframe tbody tr th:only-of-type {\n",
       "        vertical-align: middle;\n",
       "    }\n",
       "\n",
       "    .dataframe tbody tr th {\n",
       "        vertical-align: top;\n",
       "    }\n",
       "\n",
       "    .dataframe thead th {\n",
       "        text-align: right;\n",
       "    }\n",
       "</style>\n",
       "<table border=\"1\" class=\"dataframe\">\n",
       "  <thead>\n",
       "    <tr style=\"text-align: right;\">\n",
       "      <th></th>\n",
       "      <th>Brands</th>\n",
       "      <th>Models</th>\n",
       "      <th>Colors</th>\n",
       "      <th>Memory</th>\n",
       "      <th>Storage</th>\n",
       "      <th>Camera</th>\n",
       "      <th>Rating</th>\n",
       "      <th>Selling Price</th>\n",
       "      <th>Original Price</th>\n",
       "      <th>Mobile</th>\n",
       "      <th>Discount</th>\n",
       "      <th>discount percentage</th>\n",
       "    </tr>\n",
       "  </thead>\n",
       "  <tbody>\n",
       "    <tr>\n",
       "      <th>A</th>\n",
       "      <td>SAMSUNG</td>\n",
       "      <td>GALAXY M31S</td>\n",
       "      <td>Mirage Black</td>\n",
       "      <td>8 GB</td>\n",
       "      <td>128 GB</td>\n",
       "      <td>Yes</td>\n",
       "      <td>4.3</td>\n",
       "      <td>19330</td>\n",
       "      <td>20999</td>\n",
       "      <td>SAMSUNG GALAXY M31S</td>\n",
       "      <td>1669</td>\n",
       "      <td>7.947998</td>\n",
       "    </tr>\n",
       "    <tr>\n",
       "      <th>I</th>\n",
       "      <td>SAMSUNG</td>\n",
       "      <td>Galaxy E5</td>\n",
       "      <td>Brown</td>\n",
       "      <td>1.5 GB</td>\n",
       "      <td>16 GB</td>\n",
       "      <td>Yes</td>\n",
       "      <td>4.2</td>\n",
       "      <td>20400</td>\n",
       "      <td>20400</td>\n",
       "      <td>SAMSUNG Galaxy E5</td>\n",
       "      <td>0</td>\n",
       "      <td>0.000000</td>\n",
       "    </tr>\n",
       "    <tr>\n",
       "      <th>K</th>\n",
       "      <td>SAMSUNG</td>\n",
       "      <td>Galaxy A12</td>\n",
       "      <td>Black</td>\n",
       "      <td>4 GB</td>\n",
       "      <td>64 GB</td>\n",
       "      <td>Yes</td>\n",
       "      <td>4.2</td>\n",
       "      <td>11989</td>\n",
       "      <td>11989</td>\n",
       "      <td>SAMSUNG Galaxy A12</td>\n",
       "      <td>0</td>\n",
       "      <td>0.000000</td>\n",
       "    </tr>\n",
       "    <tr>\n",
       "      <th>R</th>\n",
       "      <td>SAMSUNG</td>\n",
       "      <td>Galaxy J2 Core</td>\n",
       "      <td>Gold</td>\n",
       "      <td>1 GB</td>\n",
       "      <td>16 GB</td>\n",
       "      <td>Yes</td>\n",
       "      <td>4.2</td>\n",
       "      <td>6999</td>\n",
       "      <td>6999</td>\n",
       "      <td>SAMSUNG Galaxy J2 Core</td>\n",
       "      <td>0</td>\n",
       "      <td>0.000000</td>\n",
       "    </tr>\n",
       "  </tbody>\n",
       "</table>\n",
       "</div>"
      ],
      "text/plain": [
       "    Brands           Models        Colors  Memory Storage Camera  Rating  \\\n",
       "A  SAMSUNG     GALAXY M31S   Mirage Black    8 GB  128 GB    Yes     4.3   \n",
       "I  SAMSUNG       Galaxy E5          Brown  1.5 GB   16 GB    Yes     4.2   \n",
       "K  SAMSUNG      Galaxy A12          Black    4 GB   64 GB    Yes     4.2   \n",
       "R  SAMSUNG  Galaxy J2 Core           Gold    1 GB   16 GB    Yes     4.2   \n",
       "\n",
       "   Selling Price  Original Price                   Mobile  Discount  \\\n",
       "A          19330           20999     SAMSUNG GALAXY M31S       1669   \n",
       "I          20400           20400       SAMSUNG Galaxy E5          0   \n",
       "K          11989           11989      SAMSUNG Galaxy A12          0   \n",
       "R           6999            6999  SAMSUNG Galaxy J2 Core          0   \n",
       "\n",
       "   discount percentage  \n",
       "A             7.947998  \n",
       "I             0.000000  \n",
       "K             0.000000  \n",
       "R             0.000000  "
      ]
     },
     "execution_count": 21,
     "metadata": {},
     "output_type": "execute_result"
    }
   ],
   "source": [
    "df.loc[df['Brands']=='SAMSUNG']"
   ]
  },
  {
   "cell_type": "code",
   "execution_count": 23,
   "id": "f69931a1",
   "metadata": {},
   "outputs": [
    {
     "data": {
      "application/vnd.microsoft.datawrangler.viewer.v0+json": {
       "columns": [
        {
         "name": "Brands",
         "rawType": "object",
         "type": "string"
        },
        {
         "name": "Discount",
         "rawType": "float64",
         "type": "float"
        },
        {
         "name": "Selling Price",
         "rawType": "float64",
         "type": "float"
        }
       ],
       "ref": "564bceef-9665-41f0-a094-455985c06871",
       "rows": [
        [
         "ASUS",
         "0.0",
         "7699.0"
        ],
        [
         "Apple",
         "980.2",
         "71519.8"
        ],
        [
         "GIONEE",
         "0.0",
         "2849.0"
        ],
        [
         "Infinix",
         "0.0",
         "12999.0"
        ],
        [
         "Lenovo",
         "0.0",
         "13999.0"
        ],
        [
         "Motorola",
         "0.0",
         "9999.0"
        ],
        [
         "Nokia",
         "0.0",
         "10199.0"
        ],
        [
         "OPPO",
         "2500.0",
         "10490.0"
        ],
        [
         "SAMSUNG",
         "417.25",
         "14679.5"
        ],
        [
         "Xiaomi",
         "1263.0",
         "21736.0"
        ],
        [
         "realme",
         "1500.0",
         "15164.166666666666"
        ],
        [
         "vivo",
         "6000.0",
         "34990.0"
        ]
       ],
       "shape": {
        "columns": 2,
        "rows": 12
       }
      },
      "text/html": [
       "<div>\n",
       "<style scoped>\n",
       "    .dataframe tbody tr th:only-of-type {\n",
       "        vertical-align: middle;\n",
       "    }\n",
       "\n",
       "    .dataframe tbody tr th {\n",
       "        vertical-align: top;\n",
       "    }\n",
       "\n",
       "    .dataframe thead th {\n",
       "        text-align: right;\n",
       "    }\n",
       "</style>\n",
       "<table border=\"1\" class=\"dataframe\">\n",
       "  <thead>\n",
       "    <tr style=\"text-align: right;\">\n",
       "      <th></th>\n",
       "      <th>Discount</th>\n",
       "      <th>Selling Price</th>\n",
       "    </tr>\n",
       "    <tr>\n",
       "      <th>Brands</th>\n",
       "      <th></th>\n",
       "      <th></th>\n",
       "    </tr>\n",
       "  </thead>\n",
       "  <tbody>\n",
       "    <tr>\n",
       "      <th>ASUS</th>\n",
       "      <td>0.00</td>\n",
       "      <td>7699.000000</td>\n",
       "    </tr>\n",
       "    <tr>\n",
       "      <th>Apple</th>\n",
       "      <td>980.20</td>\n",
       "      <td>71519.800000</td>\n",
       "    </tr>\n",
       "    <tr>\n",
       "      <th>GIONEE</th>\n",
       "      <td>0.00</td>\n",
       "      <td>2849.000000</td>\n",
       "    </tr>\n",
       "    <tr>\n",
       "      <th>Infinix</th>\n",
       "      <td>0.00</td>\n",
       "      <td>12999.000000</td>\n",
       "    </tr>\n",
       "    <tr>\n",
       "      <th>Lenovo</th>\n",
       "      <td>0.00</td>\n",
       "      <td>13999.000000</td>\n",
       "    </tr>\n",
       "    <tr>\n",
       "      <th>Motorola</th>\n",
       "      <td>0.00</td>\n",
       "      <td>9999.000000</td>\n",
       "    </tr>\n",
       "    <tr>\n",
       "      <th>Nokia</th>\n",
       "      <td>0.00</td>\n",
       "      <td>10199.000000</td>\n",
       "    </tr>\n",
       "    <tr>\n",
       "      <th>OPPO</th>\n",
       "      <td>2500.00</td>\n",
       "      <td>10490.000000</td>\n",
       "    </tr>\n",
       "    <tr>\n",
       "      <th>SAMSUNG</th>\n",
       "      <td>417.25</td>\n",
       "      <td>14679.500000</td>\n",
       "    </tr>\n",
       "    <tr>\n",
       "      <th>Xiaomi</th>\n",
       "      <td>1263.00</td>\n",
       "      <td>21736.000000</td>\n",
       "    </tr>\n",
       "    <tr>\n",
       "      <th>realme</th>\n",
       "      <td>1500.00</td>\n",
       "      <td>15164.166667</td>\n",
       "    </tr>\n",
       "    <tr>\n",
       "      <th>vivo</th>\n",
       "      <td>6000.00</td>\n",
       "      <td>34990.000000</td>\n",
       "    </tr>\n",
       "  </tbody>\n",
       "</table>\n",
       "</div>"
      ],
      "text/plain": [
       "          Discount  Selling Price\n",
       "Brands                           \n",
       "ASUS          0.00    7699.000000\n",
       "Apple       980.20   71519.800000\n",
       "GIONEE        0.00    2849.000000\n",
       "Infinix       0.00   12999.000000\n",
       "Lenovo        0.00   13999.000000\n",
       "Motorola      0.00    9999.000000\n",
       "Nokia         0.00   10199.000000\n",
       "OPPO       2500.00   10490.000000\n",
       "SAMSUNG     417.25   14679.500000\n",
       "Xiaomi     1263.00   21736.000000\n",
       "realme     1500.00   15164.166667\n",
       "vivo       6000.00   34990.000000"
      ]
     },
     "execution_count": 23,
     "metadata": {},
     "output_type": "execute_result"
    }
   ],
   "source": [
    "df.groupby('Brands')[['Discount', 'Selling Price']].mean()"
   ]
  },
  {
   "cell_type": "code",
   "execution_count": 24,
   "id": "378c1acf",
   "metadata": {},
   "outputs": [
    {
     "data": {
      "application/vnd.microsoft.datawrangler.viewer.v0+json": {
       "columns": [
        {
         "name": "index",
         "rawType": "int64",
         "type": "integer"
        },
        {
         "name": "Brands",
         "rawType": "object",
         "type": "string"
        },
        {
         "name": "Models",
         "rawType": "object",
         "type": "string"
        },
        {
         "name": "Colors",
         "rawType": "object",
         "type": "string"
        },
        {
         "name": "Memory",
         "rawType": "object",
         "type": "string"
        },
        {
         "name": "Storage",
         "rawType": "object",
         "type": "unknown"
        },
        {
         "name": "Camera",
         "rawType": "object",
         "type": "string"
        },
        {
         "name": "Rating",
         "rawType": "float64",
         "type": "float"
        },
        {
         "name": "Selling Price",
         "rawType": "int64",
         "type": "integer"
        },
        {
         "name": "Original Price",
         "rawType": "int64",
         "type": "integer"
        },
        {
         "name": "Mobile",
         "rawType": "object",
         "type": "string"
        },
        {
         "name": "Discount",
         "rawType": "int64",
         "type": "integer"
        },
        {
         "name": "discount percentage",
         "rawType": "float64",
         "type": "float"
        }
       ],
       "ref": "2643d2ff-3068-4576-97c1-5361e95a6724",
       "rows": [
        [
         "0",
         "SAMSUNG",
         "GALAXY M31S ",
         "Mirage Black",
         "8 GB",
         "128 GB",
         "Yes",
         "4.3",
         "19330",
         "20999",
         "SAMSUNG GALAXY M31S ",
         "1669",
         "7.947997523691604"
        ],
        [
         "1",
         "Nokia",
         "3.2",
         "Steel",
         "2 GB",
         "16 GB",
         "Yes",
         "3.8",
         "10199",
         "10199",
         "Nokia 3.2",
         "0",
         "0.0"
        ],
        [
         "2",
         "realme",
         "C2 ",
         "Diamond Black",
         "2 GB",
         null,
         "Yes",
         "4.4",
         "6999",
         "7999",
         "realme C2 ",
         "1000",
         "12.50156269533692"
        ],
        [
         "3",
         "Infinix",
         "Note 5",
         "Ice Blue",
         "4 GB",
         "64 GB",
         "Yes",
         "4.2",
         "12999",
         "12999",
         "Infinix Note 5",
         "0",
         "0.0"
        ],
        [
         "4",
         "Apple",
         "iPhone 11 ",
         "Black",
         "4GB",
         "64 GB",
         "Yes",
         "4.6",
         "49900",
         "49900",
         "Apple iPhone 11 ",
         "0",
         "0.0"
        ]
       ],
       "shape": {
        "columns": 12,
        "rows": 5
       }
      },
      "text/html": [
       "<div>\n",
       "<style scoped>\n",
       "    .dataframe tbody tr th:only-of-type {\n",
       "        vertical-align: middle;\n",
       "    }\n",
       "\n",
       "    .dataframe tbody tr th {\n",
       "        vertical-align: top;\n",
       "    }\n",
       "\n",
       "    .dataframe thead th {\n",
       "        text-align: right;\n",
       "    }\n",
       "</style>\n",
       "<table border=\"1\" class=\"dataframe\">\n",
       "  <thead>\n",
       "    <tr style=\"text-align: right;\">\n",
       "      <th></th>\n",
       "      <th>Brands</th>\n",
       "      <th>Models</th>\n",
       "      <th>Colors</th>\n",
       "      <th>Memory</th>\n",
       "      <th>Storage</th>\n",
       "      <th>Camera</th>\n",
       "      <th>Rating</th>\n",
       "      <th>Selling Price</th>\n",
       "      <th>Original Price</th>\n",
       "      <th>Mobile</th>\n",
       "      <th>Discount</th>\n",
       "      <th>discount percentage</th>\n",
       "    </tr>\n",
       "  </thead>\n",
       "  <tbody>\n",
       "    <tr>\n",
       "      <th>0</th>\n",
       "      <td>SAMSUNG</td>\n",
       "      <td>GALAXY M31S</td>\n",
       "      <td>Mirage Black</td>\n",
       "      <td>8 GB</td>\n",
       "      <td>128 GB</td>\n",
       "      <td>Yes</td>\n",
       "      <td>4.3</td>\n",
       "      <td>19330</td>\n",
       "      <td>20999</td>\n",
       "      <td>SAMSUNG GALAXY M31S</td>\n",
       "      <td>1669</td>\n",
       "      <td>7.947998</td>\n",
       "    </tr>\n",
       "    <tr>\n",
       "      <th>1</th>\n",
       "      <td>Nokia</td>\n",
       "      <td>3.2</td>\n",
       "      <td>Steel</td>\n",
       "      <td>2 GB</td>\n",
       "      <td>16 GB</td>\n",
       "      <td>Yes</td>\n",
       "      <td>3.8</td>\n",
       "      <td>10199</td>\n",
       "      <td>10199</td>\n",
       "      <td>Nokia 3.2</td>\n",
       "      <td>0</td>\n",
       "      <td>0.000000</td>\n",
       "    </tr>\n",
       "    <tr>\n",
       "      <th>2</th>\n",
       "      <td>realme</td>\n",
       "      <td>C2</td>\n",
       "      <td>Diamond Black</td>\n",
       "      <td>2 GB</td>\n",
       "      <td>NaN</td>\n",
       "      <td>Yes</td>\n",
       "      <td>4.4</td>\n",
       "      <td>6999</td>\n",
       "      <td>7999</td>\n",
       "      <td>realme C2</td>\n",
       "      <td>1000</td>\n",
       "      <td>12.501563</td>\n",
       "    </tr>\n",
       "    <tr>\n",
       "      <th>3</th>\n",
       "      <td>Infinix</td>\n",
       "      <td>Note 5</td>\n",
       "      <td>Ice Blue</td>\n",
       "      <td>4 GB</td>\n",
       "      <td>64 GB</td>\n",
       "      <td>Yes</td>\n",
       "      <td>4.2</td>\n",
       "      <td>12999</td>\n",
       "      <td>12999</td>\n",
       "      <td>Infinix Note 5</td>\n",
       "      <td>0</td>\n",
       "      <td>0.000000</td>\n",
       "    </tr>\n",
       "    <tr>\n",
       "      <th>4</th>\n",
       "      <td>Apple</td>\n",
       "      <td>iPhone 11</td>\n",
       "      <td>Black</td>\n",
       "      <td>4GB</td>\n",
       "      <td>64 GB</td>\n",
       "      <td>Yes</td>\n",
       "      <td>4.6</td>\n",
       "      <td>49900</td>\n",
       "      <td>49900</td>\n",
       "      <td>Apple iPhone 11</td>\n",
       "      <td>0</td>\n",
       "      <td>0.000000</td>\n",
       "    </tr>\n",
       "  </tbody>\n",
       "</table>\n",
       "</div>"
      ],
      "text/plain": [
       "    Brands        Models         Colors Memory Storage Camera  Rating  \\\n",
       "0  SAMSUNG  GALAXY M31S    Mirage Black   8 GB  128 GB    Yes     4.3   \n",
       "1    Nokia           3.2          Steel   2 GB   16 GB    Yes     3.8   \n",
       "2   realme           C2   Diamond Black   2 GB     NaN    Yes     4.4   \n",
       "3  Infinix        Note 5       Ice Blue   4 GB   64 GB    Yes     4.2   \n",
       "4    Apple    iPhone 11           Black    4GB   64 GB    Yes     4.6   \n",
       "\n",
       "   Selling Price  Original Price                Mobile  Discount  \\\n",
       "0          19330           20999  SAMSUNG GALAXY M31S       1669   \n",
       "1          10199           10199             Nokia 3.2         0   \n",
       "2           6999            7999            realme C2       1000   \n",
       "3          12999           12999        Infinix Note 5         0   \n",
       "4          49900           49900      Apple iPhone 11          0   \n",
       "\n",
       "   discount percentage  \n",
       "0             7.947998  \n",
       "1             0.000000  \n",
       "2            12.501563  \n",
       "3             0.000000  \n",
       "4             0.000000  "
      ]
     },
     "execution_count": 24,
     "metadata": {},
     "output_type": "execute_result"
    }
   ],
   "source": [
    "data.head()"
   ]
  },
  {
   "cell_type": "code",
   "execution_count": 27,
   "id": "5f10c475",
   "metadata": {},
   "outputs": [
    {
     "data": {
      "application/vnd.microsoft.datawrangler.viewer.v0+json": {
       "columns": [
        {
         "name": "Brands",
         "rawType": "object",
         "type": "string"
        },
        {
         "name": "Selling Price",
         "rawType": "float64",
         "type": "float"
        },
        {
         "name": "Discount",
         "rawType": "float64",
         "type": "float"
        }
       ],
       "ref": "573edfea-d8c9-426d-87e1-388e8f06e624",
       "rows": [
        [
         "ASUS",
         "20326.915254237287",
         "1258.4745762711864"
        ],
        [
         "Apple",
         "81985.56072351421",
         "2931.8113695090437"
        ],
        [
         "GIONEE",
         "7135.093023255814",
         "683.5193798449612"
        ],
        [
         "Google Pixel",
         "61391.862068965514",
         "620.3448275862069"
        ],
        [
         "HTC",
         "28314.381818181817",
         "0.0"
        ],
        [
         "IQOO",
         "37190.0",
         "3800.0"
        ],
        [
         "Infinix",
         "11092.17880794702",
         "925.9072847682119"
        ],
        [
         "LG",
         "19323.18181818182",
         "3044.59595959596"
        ],
        [
         "Lenovo",
         "10083.842975206611",
         "266.6694214876033"
        ],
        [
         "Motorola",
         "16357.466666666667",
         "4323.895238095238"
        ],
        [
         "Nokia",
         "9428.657276995305",
         "745.7323943661971"
        ],
        [
         "OPPO",
         "18560.48846153846",
         "2050.776923076923"
        ],
        [
         "POCO",
         "16870.62162162162",
         "2614.864864864865"
        ],
        [
         "SAMSUNG",
         "24296.248956884563",
         "2535.7816411682893"
        ],
        [
         "Xiaomi",
         "16941.909090909092",
         "911.3434343434343"
        ],
        [
         "realme",
         "16396.535168195718",
         "1441.5993883792048"
        ],
        [
         "vivo",
         "23866.24193548387",
         "1696.6612903225807"
        ]
       ],
       "shape": {
        "columns": 2,
        "rows": 17
       }
      },
      "text/html": [
       "<div>\n",
       "<style scoped>\n",
       "    .dataframe tbody tr th:only-of-type {\n",
       "        vertical-align: middle;\n",
       "    }\n",
       "\n",
       "    .dataframe tbody tr th {\n",
       "        vertical-align: top;\n",
       "    }\n",
       "\n",
       "    .dataframe thead th {\n",
       "        text-align: right;\n",
       "    }\n",
       "</style>\n",
       "<table border=\"1\" class=\"dataframe\">\n",
       "  <thead>\n",
       "    <tr style=\"text-align: right;\">\n",
       "      <th></th>\n",
       "      <th>Selling Price</th>\n",
       "      <th>Discount</th>\n",
       "    </tr>\n",
       "    <tr>\n",
       "      <th>Brands</th>\n",
       "      <th></th>\n",
       "      <th></th>\n",
       "    </tr>\n",
       "  </thead>\n",
       "  <tbody>\n",
       "    <tr>\n",
       "      <th>ASUS</th>\n",
       "      <td>20326.915254</td>\n",
       "      <td>1258.474576</td>\n",
       "    </tr>\n",
       "    <tr>\n",
       "      <th>Apple</th>\n",
       "      <td>81985.560724</td>\n",
       "      <td>2931.811370</td>\n",
       "    </tr>\n",
       "    <tr>\n",
       "      <th>GIONEE</th>\n",
       "      <td>7135.093023</td>\n",
       "      <td>683.519380</td>\n",
       "    </tr>\n",
       "    <tr>\n",
       "      <th>Google Pixel</th>\n",
       "      <td>61391.862069</td>\n",
       "      <td>620.344828</td>\n",
       "    </tr>\n",
       "    <tr>\n",
       "      <th>HTC</th>\n",
       "      <td>28314.381818</td>\n",
       "      <td>0.000000</td>\n",
       "    </tr>\n",
       "    <tr>\n",
       "      <th>IQOO</th>\n",
       "      <td>37190.000000</td>\n",
       "      <td>3800.000000</td>\n",
       "    </tr>\n",
       "    <tr>\n",
       "      <th>Infinix</th>\n",
       "      <td>11092.178808</td>\n",
       "      <td>925.907285</td>\n",
       "    </tr>\n",
       "    <tr>\n",
       "      <th>LG</th>\n",
       "      <td>19323.181818</td>\n",
       "      <td>3044.595960</td>\n",
       "    </tr>\n",
       "    <tr>\n",
       "      <th>Lenovo</th>\n",
       "      <td>10083.842975</td>\n",
       "      <td>266.669421</td>\n",
       "    </tr>\n",
       "    <tr>\n",
       "      <th>Motorola</th>\n",
       "      <td>16357.466667</td>\n",
       "      <td>4323.895238</td>\n",
       "    </tr>\n",
       "    <tr>\n",
       "      <th>Nokia</th>\n",
       "      <td>9428.657277</td>\n",
       "      <td>745.732394</td>\n",
       "    </tr>\n",
       "    <tr>\n",
       "      <th>OPPO</th>\n",
       "      <td>18560.488462</td>\n",
       "      <td>2050.776923</td>\n",
       "    </tr>\n",
       "    <tr>\n",
       "      <th>POCO</th>\n",
       "      <td>16870.621622</td>\n",
       "      <td>2614.864865</td>\n",
       "    </tr>\n",
       "    <tr>\n",
       "      <th>SAMSUNG</th>\n",
       "      <td>24296.248957</td>\n",
       "      <td>2535.781641</td>\n",
       "    </tr>\n",
       "    <tr>\n",
       "      <th>Xiaomi</th>\n",
       "      <td>16941.909091</td>\n",
       "      <td>911.343434</td>\n",
       "    </tr>\n",
       "    <tr>\n",
       "      <th>realme</th>\n",
       "      <td>16396.535168</td>\n",
       "      <td>1441.599388</td>\n",
       "    </tr>\n",
       "    <tr>\n",
       "      <th>vivo</th>\n",
       "      <td>23866.241935</td>\n",
       "      <td>1696.661290</td>\n",
       "    </tr>\n",
       "  </tbody>\n",
       "</table>\n",
       "</div>"
      ],
      "text/plain": [
       "              Selling Price     Discount\n",
       "Brands                                  \n",
       "ASUS           20326.915254  1258.474576\n",
       "Apple          81985.560724  2931.811370\n",
       "GIONEE          7135.093023   683.519380\n",
       "Google Pixel   61391.862069   620.344828\n",
       "HTC            28314.381818     0.000000\n",
       "IQOO           37190.000000  3800.000000\n",
       "Infinix        11092.178808   925.907285\n",
       "LG             19323.181818  3044.595960\n",
       "Lenovo         10083.842975   266.669421\n",
       "Motorola       16357.466667  4323.895238\n",
       "Nokia           9428.657277   745.732394\n",
       "OPPO           18560.488462  2050.776923\n",
       "POCO           16870.621622  2614.864865\n",
       "SAMSUNG        24296.248957  2535.781641\n",
       "Xiaomi         16941.909091   911.343434\n",
       "realme         16396.535168  1441.599388\n",
       "vivo           23866.241935  1696.661290"
      ]
     },
     "execution_count": 27,
     "metadata": {},
     "output_type": "execute_result"
    }
   ],
   "source": [
    "data.groupby('Brands')[['Selling Price', 'Discount']].mean()"
   ]
  },
  {
   "cell_type": "code",
   "execution_count": 29,
   "id": "f2c8d41d",
   "metadata": {},
   "outputs": [
    {
     "data": {
      "application/vnd.microsoft.datawrangler.viewer.v0+json": {
       "columns": [
        {
         "name": "Brands",
         "rawType": "object",
         "type": "string"
        },
        {
         "name": "('Selling Price', 'mean')",
         "rawType": "float64",
         "type": "float"
        },
        {
         "name": "('Selling Price', 'min')",
         "rawType": "int64",
         "type": "integer"
        },
        {
         "name": "('Selling Price', 'max')",
         "rawType": "int64",
         "type": "integer"
        },
        {
         "name": "('Discount', 'mean')",
         "rawType": "float64",
         "type": "float"
        },
        {
         "name": "('Discount', 'min')",
         "rawType": "int64",
         "type": "integer"
        },
        {
         "name": "('Discount', 'max')",
         "rawType": "int64",
         "type": "integer"
        }
       ],
       "ref": "8a17449a-6163-4b09-9d54-e3f614b8abeb",
       "rows": [
        [
         "ASUS",
         "20326.915254237287",
         "4499",
         "79999",
         "1258.4745762711864",
         "0",
         "57500"
        ],
        [
         "Apple",
         "81985.56072351421",
         "24999",
         "179900",
         "2931.8113695090437",
         "0",
         "45901"
        ],
        [
         "GIONEE",
         "7135.093023255814",
         "1099",
         "21499",
         "683.5193798449612",
         "0",
         "19600"
        ],
        [
         "Google Pixel",
         "61391.862068965514",
         "12000",
         "92000",
         "620.3448275862069",
         "0",
         "17990"
        ],
        [
         "HTC",
         "28314.381818181817",
         "6999",
         "62990",
         "0.0",
         "0",
         "0"
        ],
        [
         "IQOO",
         "37190.0",
         "34990",
         "39990",
         "3800.0",
         "3000",
         "7000"
        ],
        [
         "Infinix",
         "11092.17880794702",
         "6949",
         "19999",
         "925.9072847682119",
         "0",
         "3000"
        ],
        [
         "LG",
         "19323.18181818182",
         "5000",
         "60000",
         "3044.59595959596",
         "0",
         "50001"
        ],
        [
         "Lenovo",
         "10083.842975206611",
         "3549",
         "29999",
         "266.6694214876033",
         "0",
         "7400"
        ],
        [
         "Motorola",
         "16357.466666666667",
         "5450",
         "89999",
         "4323.895238095238",
         "0",
         "75000"
        ],
        [
         "Nokia",
         "9428.657276995305",
         "1000",
         "56299",
         "745.7323943661971",
         "0",
         "14028"
        ],
        [
         "OPPO",
         "18560.48846153846",
         "4999",
         "60990",
         "2050.776923076923",
         "-8000",
         "15000"
        ],
        [
         "POCO",
         "16870.62162162162",
         "7999",
         "30999",
         "2614.864864864865",
         "0",
         "6000"
        ],
        [
         "SAMSUNG",
         "24296.248956884563",
         "1099",
         "169999",
         "2535.7816411682893",
         "0",
         "40000"
        ],
        [
         "Xiaomi",
         "16941.909090909092",
         "6499",
         "54999",
         "911.3434343434343",
         "0",
         "8000"
        ],
        [
         "realme",
         "16396.535168195718",
         "6499",
         "47999",
         "1441.5993883792048",
         "0",
         "5500"
        ],
        [
         "vivo",
         "23866.24193548387",
         "7990",
         "79990",
         "1696.6612903225807",
         "0",
         "11891"
        ]
       ],
       "shape": {
        "columns": 6,
        "rows": 17
       }
      },
      "text/html": [
       "<div>\n",
       "<style scoped>\n",
       "    .dataframe tbody tr th:only-of-type {\n",
       "        vertical-align: middle;\n",
       "    }\n",
       "\n",
       "    .dataframe tbody tr th {\n",
       "        vertical-align: top;\n",
       "    }\n",
       "\n",
       "    .dataframe thead tr th {\n",
       "        text-align: left;\n",
       "    }\n",
       "\n",
       "    .dataframe thead tr:last-of-type th {\n",
       "        text-align: right;\n",
       "    }\n",
       "</style>\n",
       "<table border=\"1\" class=\"dataframe\">\n",
       "  <thead>\n",
       "    <tr>\n",
       "      <th></th>\n",
       "      <th colspan=\"3\" halign=\"left\">Selling Price</th>\n",
       "      <th colspan=\"3\" halign=\"left\">Discount</th>\n",
       "    </tr>\n",
       "    <tr>\n",
       "      <th></th>\n",
       "      <th>mean</th>\n",
       "      <th>min</th>\n",
       "      <th>max</th>\n",
       "      <th>mean</th>\n",
       "      <th>min</th>\n",
       "      <th>max</th>\n",
       "    </tr>\n",
       "    <tr>\n",
       "      <th>Brands</th>\n",
       "      <th></th>\n",
       "      <th></th>\n",
       "      <th></th>\n",
       "      <th></th>\n",
       "      <th></th>\n",
       "      <th></th>\n",
       "    </tr>\n",
       "  </thead>\n",
       "  <tbody>\n",
       "    <tr>\n",
       "      <th>ASUS</th>\n",
       "      <td>20326.915254</td>\n",
       "      <td>4499</td>\n",
       "      <td>79999</td>\n",
       "      <td>1258.474576</td>\n",
       "      <td>0</td>\n",
       "      <td>57500</td>\n",
       "    </tr>\n",
       "    <tr>\n",
       "      <th>Apple</th>\n",
       "      <td>81985.560724</td>\n",
       "      <td>24999</td>\n",
       "      <td>179900</td>\n",
       "      <td>2931.811370</td>\n",
       "      <td>0</td>\n",
       "      <td>45901</td>\n",
       "    </tr>\n",
       "    <tr>\n",
       "      <th>GIONEE</th>\n",
       "      <td>7135.093023</td>\n",
       "      <td>1099</td>\n",
       "      <td>21499</td>\n",
       "      <td>683.519380</td>\n",
       "      <td>0</td>\n",
       "      <td>19600</td>\n",
       "    </tr>\n",
       "    <tr>\n",
       "      <th>Google Pixel</th>\n",
       "      <td>61391.862069</td>\n",
       "      <td>12000</td>\n",
       "      <td>92000</td>\n",
       "      <td>620.344828</td>\n",
       "      <td>0</td>\n",
       "      <td>17990</td>\n",
       "    </tr>\n",
       "    <tr>\n",
       "      <th>HTC</th>\n",
       "      <td>28314.381818</td>\n",
       "      <td>6999</td>\n",
       "      <td>62990</td>\n",
       "      <td>0.000000</td>\n",
       "      <td>0</td>\n",
       "      <td>0</td>\n",
       "    </tr>\n",
       "    <tr>\n",
       "      <th>IQOO</th>\n",
       "      <td>37190.000000</td>\n",
       "      <td>34990</td>\n",
       "      <td>39990</td>\n",
       "      <td>3800.000000</td>\n",
       "      <td>3000</td>\n",
       "      <td>7000</td>\n",
       "    </tr>\n",
       "    <tr>\n",
       "      <th>Infinix</th>\n",
       "      <td>11092.178808</td>\n",
       "      <td>6949</td>\n",
       "      <td>19999</td>\n",
       "      <td>925.907285</td>\n",
       "      <td>0</td>\n",
       "      <td>3000</td>\n",
       "    </tr>\n",
       "    <tr>\n",
       "      <th>LG</th>\n",
       "      <td>19323.181818</td>\n",
       "      <td>5000</td>\n",
       "      <td>60000</td>\n",
       "      <td>3044.595960</td>\n",
       "      <td>0</td>\n",
       "      <td>50001</td>\n",
       "    </tr>\n",
       "    <tr>\n",
       "      <th>Lenovo</th>\n",
       "      <td>10083.842975</td>\n",
       "      <td>3549</td>\n",
       "      <td>29999</td>\n",
       "      <td>266.669421</td>\n",
       "      <td>0</td>\n",
       "      <td>7400</td>\n",
       "    </tr>\n",
       "    <tr>\n",
       "      <th>Motorola</th>\n",
       "      <td>16357.466667</td>\n",
       "      <td>5450</td>\n",
       "      <td>89999</td>\n",
       "      <td>4323.895238</td>\n",
       "      <td>0</td>\n",
       "      <td>75000</td>\n",
       "    </tr>\n",
       "    <tr>\n",
       "      <th>Nokia</th>\n",
       "      <td>9428.657277</td>\n",
       "      <td>1000</td>\n",
       "      <td>56299</td>\n",
       "      <td>745.732394</td>\n",
       "      <td>0</td>\n",
       "      <td>14028</td>\n",
       "    </tr>\n",
       "    <tr>\n",
       "      <th>OPPO</th>\n",
       "      <td>18560.488462</td>\n",
       "      <td>4999</td>\n",
       "      <td>60990</td>\n",
       "      <td>2050.776923</td>\n",
       "      <td>-8000</td>\n",
       "      <td>15000</td>\n",
       "    </tr>\n",
       "    <tr>\n",
       "      <th>POCO</th>\n",
       "      <td>16870.621622</td>\n",
       "      <td>7999</td>\n",
       "      <td>30999</td>\n",
       "      <td>2614.864865</td>\n",
       "      <td>0</td>\n",
       "      <td>6000</td>\n",
       "    </tr>\n",
       "    <tr>\n",
       "      <th>SAMSUNG</th>\n",
       "      <td>24296.248957</td>\n",
       "      <td>1099</td>\n",
       "      <td>169999</td>\n",
       "      <td>2535.781641</td>\n",
       "      <td>0</td>\n",
       "      <td>40000</td>\n",
       "    </tr>\n",
       "    <tr>\n",
       "      <th>Xiaomi</th>\n",
       "      <td>16941.909091</td>\n",
       "      <td>6499</td>\n",
       "      <td>54999</td>\n",
       "      <td>911.343434</td>\n",
       "      <td>0</td>\n",
       "      <td>8000</td>\n",
       "    </tr>\n",
       "    <tr>\n",
       "      <th>realme</th>\n",
       "      <td>16396.535168</td>\n",
       "      <td>6499</td>\n",
       "      <td>47999</td>\n",
       "      <td>1441.599388</td>\n",
       "      <td>0</td>\n",
       "      <td>5500</td>\n",
       "    </tr>\n",
       "    <tr>\n",
       "      <th>vivo</th>\n",
       "      <td>23866.241935</td>\n",
       "      <td>7990</td>\n",
       "      <td>79990</td>\n",
       "      <td>1696.661290</td>\n",
       "      <td>0</td>\n",
       "      <td>11891</td>\n",
       "    </tr>\n",
       "  </tbody>\n",
       "</table>\n",
       "</div>"
      ],
      "text/plain": [
       "             Selling Price                    Discount             \n",
       "                      mean    min     max         mean   min    max\n",
       "Brands                                                             \n",
       "ASUS          20326.915254   4499   79999  1258.474576     0  57500\n",
       "Apple         81985.560724  24999  179900  2931.811370     0  45901\n",
       "GIONEE         7135.093023   1099   21499   683.519380     0  19600\n",
       "Google Pixel  61391.862069  12000   92000   620.344828     0  17990\n",
       "HTC           28314.381818   6999   62990     0.000000     0      0\n",
       "IQOO          37190.000000  34990   39990  3800.000000  3000   7000\n",
       "Infinix       11092.178808   6949   19999   925.907285     0   3000\n",
       "LG            19323.181818   5000   60000  3044.595960     0  50001\n",
       "Lenovo        10083.842975   3549   29999   266.669421     0   7400\n",
       "Motorola      16357.466667   5450   89999  4323.895238     0  75000\n",
       "Nokia          9428.657277   1000   56299   745.732394     0  14028\n",
       "OPPO          18560.488462   4999   60990  2050.776923 -8000  15000\n",
       "POCO          16870.621622   7999   30999  2614.864865     0   6000\n",
       "SAMSUNG       24296.248957   1099  169999  2535.781641     0  40000\n",
       "Xiaomi        16941.909091   6499   54999   911.343434     0   8000\n",
       "realme        16396.535168   6499   47999  1441.599388     0   5500\n",
       "vivo          23866.241935   7990   79990  1696.661290     0  11891"
      ]
     },
     "execution_count": 29,
     "metadata": {},
     "output_type": "execute_result"
    }
   ],
   "source": [
    "data.groupby('Brands')[['Selling Price', 'Discount']].agg(['mean', 'min', 'max'])"
   ]
  }
 ],
 "metadata": {
  "kernelspec": {
   "display_name": ".venv",
   "language": "python",
   "name": "python3"
  },
  "language_info": {
   "codemirror_mode": {
    "name": "ipython",
    "version": 3
   },
   "file_extension": ".py",
   "mimetype": "text/x-python",
   "name": "python",
   "nbconvert_exporter": "python",
   "pygments_lexer": "ipython3",
   "version": "3.13.3"
  }
 },
 "nbformat": 4,
 "nbformat_minor": 5
}
